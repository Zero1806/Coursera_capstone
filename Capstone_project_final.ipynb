{
 "cells": [
  {
   "cell_type": "markdown",
   "metadata": {},
   "source": [
    "#  Final Report For Capstone Project on Predicting the Severity of accidents for seattle city"
   ]
  },
  {
   "cell_type": "markdown",
   "metadata": {},
   "source": [
    "## IBM Applied Data Science - Capstone Project"
   ]
  },
  {
   "cell_type": "markdown",
   "metadata": {},
   "source": [
    "### Abstract"
   ]
  },
  {
   "cell_type": "markdown",
   "metadata": {},
   "source": [
    "The purpose of this exploratory data analysis is to assess the possibility and accuracy to predict car accident severity in Seattle, USA by means of supervised machine learning models, exploiting collision track records from past accidents that were recorded by the Seattle Police Department (SPD) and provided as open data by Traffic Records.\n",
    "\n",
    "Being able to predict car accident severity from extrenal factors like weather, location, road conditions as well as speeding, influence of alcohol/drugs etc. will allow the government to put appropriate meassures in place to reduce accident severity, but above all, allow the police and first response teams to channel their resources and increase efficiency.\n",
    "\n",
    "Using car accident track records from March 2013, three different machine-learning methods, namely K-Nearest Neighbours (KNN), Decision Trees, and Logistic Regressors, were benchmarked against each other\n",
    "\n",
    "While the exploratory data analysis suggests, that almost 90% of all accidents, involving pedestrians and 88% of collisions involving cyclists lead to injuries (compare: 28% of accidents without pedestrians/cyclists lead to injuries), the tested machine learning models generally had problems to correctly predict SEVERITYCLASS=2 and therefore exhibited a high number of false negatives for this class which can in real life lead to a wrong allocation of resources of police and first responders and potentially end deadly."
   ]
  },
  {
   "cell_type": "markdown",
   "metadata": {},
   "source": [
    "## Table Of Contents"
   ]
  },
  {
   "cell_type": "markdown",
   "metadata": {},
   "source": [
    "1. Introduction \n",
    "2. Data Overview\n",
    " - Libraries\n",
    " - Data Loading\n",
    "3. Methodology \n",
    "4. Code\n",
    " - Data Overview\n",
    " - Data Cleanup\n",
    " - Exploratory Data Analysis\n",
    " - Model Building\n",
    "    - Data Preprocessing\n",
    "    - Data Resampling\n",
    "    - Data Normalization\n",
    "    - Train,Test Splitting of Data\n",
    "    - Classification Models\n",
    "      - Logistic Regression \n",
    "      - SVM \n",
    "      - Decision Tree\n",
    "      - KNN\n",
    "   - Model Evaluation \n",
    "5. Result \n",
    "6. Conclusion \n",
    " \n",
    "  "
   ]
  },
  {
   "cell_type": "markdown",
   "metadata": {},
   "source": [
    "## 1) Introduction"
   ]
  },
  {
   "cell_type": "markdown",
   "metadata": {},
   "source": [
    "Despite the fact that the US population has increased threefold since the beginning of the 20th century and the total number of cars cracking the 280 million mark in 2019 (source), leading to a whopping 3000 billion miles travelled p.a., fatality rates in traffice continously decline. This decrease of deaths in car accidents is related to measures, enforced by the law (e.g. seat belt law, 1968), advanced safety features (mandatory air bags (1998)), but also improved road safety (e.g. signs, traffic lights etc.).\n",
    "\n",
    "Moreover, thanks to technical advances in computer technology in the last decades, efficient measures can be taken even after an accident happened, e.g. by minimizing the response time of emergency teams and police through the smart analysis of accident records.\n",
    "\n",
    "This coding exercise demonstrates how collision records can be analysed and provide insight into predicting car accident severity using the example of Seattle, USA."
   ]
  },
  {
   "cell_type": "markdown",
   "metadata": {},
   "source": [
    "## 2) Data Overview"
   ]
  },
  {
   "cell_type": "markdown",
   "metadata": {},
   "source": [
    "The Data which is used for development of the model is the Collisions data that is provided by the Seattle department of transportation and Seattle police department and recorded in the traffic records. The data consists of all the Accidents taking place from year 2004 to Current year and is updated weekly. The data includes information about various attributes including weather conditions, road conditions, visibility, Accident severity. Since data is updated continuously the model can be trained and tested for continuous improvement and increasing the accuracy. For example:- In case of condtions such as when visiblity is poor or the road condition is not good the model will give a warning to the travellers."
   ]
  },
  {
   "cell_type": "markdown",
   "metadata": {},
   "source": [
    "### 2.1) Libraries"
   ]
  },
  {
   "cell_type": "code",
   "execution_count": 1,
   "metadata": {},
   "outputs": [
    {
     "name": "stdout",
     "output_type": "stream",
     "text": [
      "The libraries are loaded\n"
     ]
    }
   ],
   "source": [
    "import pandas as pd \n",
    "import numpy as np\n",
    "import matplotlib as mlt\n",
    "import matplotlib.pyplot as plt\n",
    "from sklearn import preprocessing \n",
    "import seaborn as sns\n",
    "%matplotlib inline\n",
    "print(\"The libraries are loaded\")"
   ]
  },
  {
   "cell_type": "code",
   "execution_count": 2,
   "metadata": {},
   "outputs": [],
   "source": [
    "import folium"
   ]
  },
  {
   "cell_type": "markdown",
   "metadata": {},
   "source": [
    "### 2.2) Data Loading "
   ]
  },
  {
   "cell_type": "code",
   "execution_count": 3,
   "metadata": {},
   "outputs": [
    {
     "name": "stderr",
     "output_type": "stream",
     "text": [
      "D:\\Anaconda\\lib\\site-packages\\IPython\\core\\interactiveshell.py:3071: DtypeWarning: Columns (33) have mixed types.Specify dtype option on import or set low_memory=False.\n",
      "  has_raised = await self.run_ast_nodes(code_ast.body, cell_name,\n"
     ]
    },
    {
     "data": {
      "text/html": [
       "<div>\n",
       "<style scoped>\n",
       "    .dataframe tbody tr th:only-of-type {\n",
       "        vertical-align: middle;\n",
       "    }\n",
       "\n",
       "    .dataframe tbody tr th {\n",
       "        vertical-align: top;\n",
       "    }\n",
       "\n",
       "    .dataframe thead th {\n",
       "        text-align: right;\n",
       "    }\n",
       "</style>\n",
       "<table border=\"1\" class=\"dataframe\">\n",
       "  <thead>\n",
       "    <tr style=\"text-align: right;\">\n",
       "      <th></th>\n",
       "      <th>SEVERITYCODE</th>\n",
       "      <th>X</th>\n",
       "      <th>Y</th>\n",
       "      <th>OBJECTID</th>\n",
       "      <th>INCKEY</th>\n",
       "      <th>COLDETKEY</th>\n",
       "      <th>REPORTNO</th>\n",
       "      <th>STATUS</th>\n",
       "      <th>ADDRTYPE</th>\n",
       "      <th>INTKEY</th>\n",
       "      <th>...</th>\n",
       "      <th>ROADCOND</th>\n",
       "      <th>LIGHTCOND</th>\n",
       "      <th>PEDROWNOTGRNT</th>\n",
       "      <th>SDOTCOLNUM</th>\n",
       "      <th>SPEEDING</th>\n",
       "      <th>ST_COLCODE</th>\n",
       "      <th>ST_COLDESC</th>\n",
       "      <th>SEGLANEKEY</th>\n",
       "      <th>CROSSWALKKEY</th>\n",
       "      <th>HITPARKEDCAR</th>\n",
       "    </tr>\n",
       "  </thead>\n",
       "  <tbody>\n",
       "    <tr>\n",
       "      <th>0</th>\n",
       "      <td>2</td>\n",
       "      <td>-122.323148</td>\n",
       "      <td>47.703140</td>\n",
       "      <td>1</td>\n",
       "      <td>1307</td>\n",
       "      <td>1307</td>\n",
       "      <td>3502005</td>\n",
       "      <td>Matched</td>\n",
       "      <td>Intersection</td>\n",
       "      <td>37475.0</td>\n",
       "      <td>...</td>\n",
       "      <td>Wet</td>\n",
       "      <td>Daylight</td>\n",
       "      <td>NaN</td>\n",
       "      <td>NaN</td>\n",
       "      <td>NaN</td>\n",
       "      <td>10</td>\n",
       "      <td>Entering at angle</td>\n",
       "      <td>0</td>\n",
       "      <td>0</td>\n",
       "      <td>N</td>\n",
       "    </tr>\n",
       "    <tr>\n",
       "      <th>1</th>\n",
       "      <td>1</td>\n",
       "      <td>-122.347294</td>\n",
       "      <td>47.647172</td>\n",
       "      <td>2</td>\n",
       "      <td>52200</td>\n",
       "      <td>52200</td>\n",
       "      <td>2607959</td>\n",
       "      <td>Matched</td>\n",
       "      <td>Block</td>\n",
       "      <td>NaN</td>\n",
       "      <td>...</td>\n",
       "      <td>Wet</td>\n",
       "      <td>Dark - Street Lights On</td>\n",
       "      <td>NaN</td>\n",
       "      <td>6354039.0</td>\n",
       "      <td>NaN</td>\n",
       "      <td>11</td>\n",
       "      <td>From same direction - both going straight - bo...</td>\n",
       "      <td>0</td>\n",
       "      <td>0</td>\n",
       "      <td>N</td>\n",
       "    </tr>\n",
       "    <tr>\n",
       "      <th>2</th>\n",
       "      <td>1</td>\n",
       "      <td>-122.334540</td>\n",
       "      <td>47.607871</td>\n",
       "      <td>3</td>\n",
       "      <td>26700</td>\n",
       "      <td>26700</td>\n",
       "      <td>1482393</td>\n",
       "      <td>Matched</td>\n",
       "      <td>Block</td>\n",
       "      <td>NaN</td>\n",
       "      <td>...</td>\n",
       "      <td>Dry</td>\n",
       "      <td>Daylight</td>\n",
       "      <td>NaN</td>\n",
       "      <td>4323031.0</td>\n",
       "      <td>NaN</td>\n",
       "      <td>32</td>\n",
       "      <td>One parked--one moving</td>\n",
       "      <td>0</td>\n",
       "      <td>0</td>\n",
       "      <td>N</td>\n",
       "    </tr>\n",
       "    <tr>\n",
       "      <th>3</th>\n",
       "      <td>1</td>\n",
       "      <td>-122.334803</td>\n",
       "      <td>47.604803</td>\n",
       "      <td>4</td>\n",
       "      <td>1144</td>\n",
       "      <td>1144</td>\n",
       "      <td>3503937</td>\n",
       "      <td>Matched</td>\n",
       "      <td>Block</td>\n",
       "      <td>NaN</td>\n",
       "      <td>...</td>\n",
       "      <td>Dry</td>\n",
       "      <td>Daylight</td>\n",
       "      <td>NaN</td>\n",
       "      <td>NaN</td>\n",
       "      <td>NaN</td>\n",
       "      <td>23</td>\n",
       "      <td>From same direction - all others</td>\n",
       "      <td>0</td>\n",
       "      <td>0</td>\n",
       "      <td>N</td>\n",
       "    </tr>\n",
       "    <tr>\n",
       "      <th>4</th>\n",
       "      <td>2</td>\n",
       "      <td>-122.306426</td>\n",
       "      <td>47.545739</td>\n",
       "      <td>5</td>\n",
       "      <td>17700</td>\n",
       "      <td>17700</td>\n",
       "      <td>1807429</td>\n",
       "      <td>Matched</td>\n",
       "      <td>Intersection</td>\n",
       "      <td>34387.0</td>\n",
       "      <td>...</td>\n",
       "      <td>Wet</td>\n",
       "      <td>Daylight</td>\n",
       "      <td>NaN</td>\n",
       "      <td>4028032.0</td>\n",
       "      <td>NaN</td>\n",
       "      <td>10</td>\n",
       "      <td>Entering at angle</td>\n",
       "      <td>0</td>\n",
       "      <td>0</td>\n",
       "      <td>N</td>\n",
       "    </tr>\n",
       "  </tbody>\n",
       "</table>\n",
       "<p>5 rows × 38 columns</p>\n",
       "</div>"
      ],
      "text/plain": [
       "   SEVERITYCODE           X          Y  OBJECTID  INCKEY  COLDETKEY REPORTNO  \\\n",
       "0             2 -122.323148  47.703140         1    1307       1307  3502005   \n",
       "1             1 -122.347294  47.647172         2   52200      52200  2607959   \n",
       "2             1 -122.334540  47.607871         3   26700      26700  1482393   \n",
       "3             1 -122.334803  47.604803         4    1144       1144  3503937   \n",
       "4             2 -122.306426  47.545739         5   17700      17700  1807429   \n",
       "\n",
       "    STATUS      ADDRTYPE   INTKEY  ... ROADCOND                LIGHTCOND  \\\n",
       "0  Matched  Intersection  37475.0  ...      Wet                 Daylight   \n",
       "1  Matched         Block      NaN  ...      Wet  Dark - Street Lights On   \n",
       "2  Matched         Block      NaN  ...      Dry                 Daylight   \n",
       "3  Matched         Block      NaN  ...      Dry                 Daylight   \n",
       "4  Matched  Intersection  34387.0  ...      Wet                 Daylight   \n",
       "\n",
       "  PEDROWNOTGRNT  SDOTCOLNUM SPEEDING ST_COLCODE  \\\n",
       "0           NaN         NaN      NaN         10   \n",
       "1           NaN   6354039.0      NaN         11   \n",
       "2           NaN   4323031.0      NaN         32   \n",
       "3           NaN         NaN      NaN         23   \n",
       "4           NaN   4028032.0      NaN         10   \n",
       "\n",
       "                                          ST_COLDESC  SEGLANEKEY  \\\n",
       "0                                  Entering at angle           0   \n",
       "1  From same direction - both going straight - bo...           0   \n",
       "2                             One parked--one moving           0   \n",
       "3                   From same direction - all others           0   \n",
       "4                                  Entering at angle           0   \n",
       "\n",
       "   CROSSWALKKEY  HITPARKEDCAR  \n",
       "0             0             N  \n",
       "1             0             N  \n",
       "2             0             N  \n",
       "3             0             N  \n",
       "4             0             N  \n",
       "\n",
       "[5 rows x 38 columns]"
      ]
     },
     "execution_count": 3,
     "metadata": {},
     "output_type": "execute_result"
    }
   ],
   "source": [
    "accident_df=pd.read_csv(\"D:\\Dataset\\Data-Collisions.csv\")\n",
    "accident_df.head()"
   ]
  },
  {
   "cell_type": "markdown",
   "metadata": {},
   "source": [
    "## 3) Methodology "
   ]
  },
  {
   "cell_type": "markdown",
   "metadata": {},
   "source": [
    "The workflow for the data analysis is as follows: -\n",
    "1. Data Loading\n",
    " - Involves downloading the data from the repository and storing it as a dataframe using pandas \n",
    "2. Data Overview \n",
    " - Exploring the data in terms of dimensions, format, type of data and volume \n",
    "3. Data Cleanup\n",
    " - Cleaning up the data of non value adding information and making it fit for the model development \n",
    "4. Exploratory Data Analysis\n",
    " - Getting Insights from the data about frequency, distribution and pre-selection of features for Model Building\n",
    "5. Model Building\n",
    " - Normalizing the data \n",
    " - Benchmarking Differnet Models "
   ]
  },
  {
   "cell_type": "markdown",
   "metadata": {},
   "source": [
    "## 4) Code"
   ]
  },
  {
   "cell_type": "markdown",
   "metadata": {},
   "source": [
    "### 4.1) Data Overview"
   ]
  },
  {
   "cell_type": "code",
   "execution_count": 4,
   "metadata": {},
   "outputs": [
    {
     "name": "stdout",
     "output_type": "stream",
     "text": [
      "Dimensions of dataset: (194673, 38)\n",
      "<class 'pandas.core.frame.DataFrame'>\n",
      "RangeIndex: 194673 entries, 0 to 194672\n",
      "Data columns (total 38 columns):\n",
      " #   Column          Non-Null Count   Dtype  \n",
      "---  ------          --------------   -----  \n",
      " 0   SEVERITYCODE    194673 non-null  int64  \n",
      " 1   X               189339 non-null  float64\n",
      " 2   Y               189339 non-null  float64\n",
      " 3   OBJECTID        194673 non-null  int64  \n",
      " 4   INCKEY          194673 non-null  int64  \n",
      " 5   COLDETKEY       194673 non-null  int64  \n",
      " 6   REPORTNO        194673 non-null  object \n",
      " 7   STATUS          194673 non-null  object \n",
      " 8   ADDRTYPE        192747 non-null  object \n",
      " 9   INTKEY          65070 non-null   float64\n",
      " 10  LOCATION        191996 non-null  object \n",
      " 11  EXCEPTRSNCODE   84811 non-null   object \n",
      " 12  EXCEPTRSNDESC   5638 non-null    object \n",
      " 13  SEVERITYCODE.1  194673 non-null  int64  \n",
      " 14  SEVERITYDESC    194673 non-null  object \n",
      " 15  COLLISIONTYPE   189769 non-null  object \n",
      " 16  PERSONCOUNT     194673 non-null  int64  \n",
      " 17  PEDCOUNT        194673 non-null  int64  \n",
      " 18  PEDCYLCOUNT     194673 non-null  int64  \n",
      " 19  VEHCOUNT        194673 non-null  int64  \n",
      " 20  INCDATE         194673 non-null  object \n",
      " 21  INCDTTM         194673 non-null  object \n",
      " 22  JUNCTIONTYPE    188344 non-null  object \n",
      " 23  SDOT_COLCODE    194673 non-null  int64  \n",
      " 24  SDOT_COLDESC    194673 non-null  object \n",
      " 25  INATTENTIONIND  29805 non-null   object \n",
      " 26  UNDERINFL       189789 non-null  object \n",
      " 27  WEATHER         189592 non-null  object \n",
      " 28  ROADCOND        189661 non-null  object \n",
      " 29  LIGHTCOND       189503 non-null  object \n",
      " 30  PEDROWNOTGRNT   4667 non-null    object \n",
      " 31  SDOTCOLNUM      114936 non-null  float64\n",
      " 32  SPEEDING        9333 non-null    object \n",
      " 33  ST_COLCODE      194655 non-null  object \n",
      " 34  ST_COLDESC      189769 non-null  object \n",
      " 35  SEGLANEKEY      194673 non-null  int64  \n",
      " 36  CROSSWALKKEY    194673 non-null  int64  \n",
      " 37  HITPARKEDCAR    194673 non-null  object \n",
      "dtypes: float64(4), int64(12), object(22)\n",
      "memory usage: 56.4+ MB\n"
     ]
    }
   ],
   "source": [
    "print(\"Dimensions of dataset:\",accident_df.shape)\n",
    "accident_df.info()"
   ]
  },
  {
   "cell_type": "code",
   "execution_count": 5,
   "metadata": {},
   "outputs": [
    {
     "name": "stdout",
     "output_type": "stream",
     "text": [
      "The Frequency Distribution of Severity of Accidents:\n"
     ]
    },
    {
     "data": {
      "text/html": [
       "<div>\n",
       "<style scoped>\n",
       "    .dataframe tbody tr th:only-of-type {\n",
       "        vertical-align: middle;\n",
       "    }\n",
       "\n",
       "    .dataframe tbody tr th {\n",
       "        vertical-align: top;\n",
       "    }\n",
       "\n",
       "    .dataframe thead th {\n",
       "        text-align: right;\n",
       "    }\n",
       "</style>\n",
       "<table border=\"1\" class=\"dataframe\">\n",
       "  <thead>\n",
       "    <tr style=\"text-align: right;\">\n",
       "      <th></th>\n",
       "      <th>SEVERITYCODE</th>\n",
       "    </tr>\n",
       "  </thead>\n",
       "  <tbody>\n",
       "    <tr>\n",
       "      <th>1</th>\n",
       "      <td>136485</td>\n",
       "    </tr>\n",
       "    <tr>\n",
       "      <th>2</th>\n",
       "      <td>58188</td>\n",
       "    </tr>\n",
       "  </tbody>\n",
       "</table>\n",
       "</div>"
      ],
      "text/plain": [
       "   SEVERITYCODE\n",
       "1        136485\n",
       "2         58188"
      ]
     },
     "execution_count": 5,
     "metadata": {},
     "output_type": "execute_result"
    }
   ],
   "source": [
    "## Frequency Distribution of the predicted variable/Dependent Variable: SeverityCode\n",
    "print(\"The Frequency Distribution of Severity of Accidents:\")\n",
    "accident_df[\"SEVERITYCODE\"].value_counts().to_frame()"
   ]
  },
  {
   "cell_type": "markdown",
   "metadata": {},
   "source": [
    "### Checking the Data for Missing Values/Null Values"
   ]
  },
  {
   "cell_type": "code",
   "execution_count": 6,
   "metadata": {},
   "outputs": [
    {
     "data": {
      "text/html": [
       "<div>\n",
       "<style scoped>\n",
       "    .dataframe tbody tr th:only-of-type {\n",
       "        vertical-align: middle;\n",
       "    }\n",
       "\n",
       "    .dataframe tbody tr th {\n",
       "        vertical-align: top;\n",
       "    }\n",
       "\n",
       "    .dataframe thead th {\n",
       "        text-align: right;\n",
       "    }\n",
       "</style>\n",
       "<table border=\"1\" class=\"dataframe\">\n",
       "  <thead>\n",
       "    <tr style=\"text-align: right;\">\n",
       "      <th></th>\n",
       "      <th>0</th>\n",
       "    </tr>\n",
       "  </thead>\n",
       "  <tbody>\n",
       "    <tr>\n",
       "      <th>SEVERITYCODE</th>\n",
       "      <td>0</td>\n",
       "    </tr>\n",
       "    <tr>\n",
       "      <th>X</th>\n",
       "      <td>5334</td>\n",
       "    </tr>\n",
       "    <tr>\n",
       "      <th>Y</th>\n",
       "      <td>5334</td>\n",
       "    </tr>\n",
       "    <tr>\n",
       "      <th>OBJECTID</th>\n",
       "      <td>0</td>\n",
       "    </tr>\n",
       "    <tr>\n",
       "      <th>INCKEY</th>\n",
       "      <td>0</td>\n",
       "    </tr>\n",
       "    <tr>\n",
       "      <th>COLDETKEY</th>\n",
       "      <td>0</td>\n",
       "    </tr>\n",
       "    <tr>\n",
       "      <th>REPORTNO</th>\n",
       "      <td>0</td>\n",
       "    </tr>\n",
       "    <tr>\n",
       "      <th>STATUS</th>\n",
       "      <td>0</td>\n",
       "    </tr>\n",
       "    <tr>\n",
       "      <th>ADDRTYPE</th>\n",
       "      <td>1926</td>\n",
       "    </tr>\n",
       "    <tr>\n",
       "      <th>INTKEY</th>\n",
       "      <td>129603</td>\n",
       "    </tr>\n",
       "    <tr>\n",
       "      <th>LOCATION</th>\n",
       "      <td>2677</td>\n",
       "    </tr>\n",
       "    <tr>\n",
       "      <th>EXCEPTRSNCODE</th>\n",
       "      <td>109862</td>\n",
       "    </tr>\n",
       "    <tr>\n",
       "      <th>EXCEPTRSNDESC</th>\n",
       "      <td>189035</td>\n",
       "    </tr>\n",
       "    <tr>\n",
       "      <th>SEVERITYCODE.1</th>\n",
       "      <td>0</td>\n",
       "    </tr>\n",
       "    <tr>\n",
       "      <th>SEVERITYDESC</th>\n",
       "      <td>0</td>\n",
       "    </tr>\n",
       "    <tr>\n",
       "      <th>COLLISIONTYPE</th>\n",
       "      <td>4904</td>\n",
       "    </tr>\n",
       "    <tr>\n",
       "      <th>PERSONCOUNT</th>\n",
       "      <td>0</td>\n",
       "    </tr>\n",
       "    <tr>\n",
       "      <th>PEDCOUNT</th>\n",
       "      <td>0</td>\n",
       "    </tr>\n",
       "    <tr>\n",
       "      <th>PEDCYLCOUNT</th>\n",
       "      <td>0</td>\n",
       "    </tr>\n",
       "    <tr>\n",
       "      <th>VEHCOUNT</th>\n",
       "      <td>0</td>\n",
       "    </tr>\n",
       "    <tr>\n",
       "      <th>INCDATE</th>\n",
       "      <td>0</td>\n",
       "    </tr>\n",
       "    <tr>\n",
       "      <th>INCDTTM</th>\n",
       "      <td>0</td>\n",
       "    </tr>\n",
       "    <tr>\n",
       "      <th>JUNCTIONTYPE</th>\n",
       "      <td>6329</td>\n",
       "    </tr>\n",
       "    <tr>\n",
       "      <th>SDOT_COLCODE</th>\n",
       "      <td>0</td>\n",
       "    </tr>\n",
       "    <tr>\n",
       "      <th>SDOT_COLDESC</th>\n",
       "      <td>0</td>\n",
       "    </tr>\n",
       "    <tr>\n",
       "      <th>INATTENTIONIND</th>\n",
       "      <td>164868</td>\n",
       "    </tr>\n",
       "    <tr>\n",
       "      <th>UNDERINFL</th>\n",
       "      <td>4884</td>\n",
       "    </tr>\n",
       "    <tr>\n",
       "      <th>WEATHER</th>\n",
       "      <td>5081</td>\n",
       "    </tr>\n",
       "    <tr>\n",
       "      <th>ROADCOND</th>\n",
       "      <td>5012</td>\n",
       "    </tr>\n",
       "    <tr>\n",
       "      <th>LIGHTCOND</th>\n",
       "      <td>5170</td>\n",
       "    </tr>\n",
       "    <tr>\n",
       "      <th>PEDROWNOTGRNT</th>\n",
       "      <td>190006</td>\n",
       "    </tr>\n",
       "    <tr>\n",
       "      <th>SDOTCOLNUM</th>\n",
       "      <td>79737</td>\n",
       "    </tr>\n",
       "    <tr>\n",
       "      <th>SPEEDING</th>\n",
       "      <td>185340</td>\n",
       "    </tr>\n",
       "    <tr>\n",
       "      <th>ST_COLCODE</th>\n",
       "      <td>18</td>\n",
       "    </tr>\n",
       "    <tr>\n",
       "      <th>ST_COLDESC</th>\n",
       "      <td>4904</td>\n",
       "    </tr>\n",
       "    <tr>\n",
       "      <th>SEGLANEKEY</th>\n",
       "      <td>0</td>\n",
       "    </tr>\n",
       "    <tr>\n",
       "      <th>CROSSWALKKEY</th>\n",
       "      <td>0</td>\n",
       "    </tr>\n",
       "    <tr>\n",
       "      <th>HITPARKEDCAR</th>\n",
       "      <td>0</td>\n",
       "    </tr>\n",
       "  </tbody>\n",
       "</table>\n",
       "</div>"
      ],
      "text/plain": [
       "                     0\n",
       "SEVERITYCODE         0\n",
       "X                 5334\n",
       "Y                 5334\n",
       "OBJECTID             0\n",
       "INCKEY               0\n",
       "COLDETKEY            0\n",
       "REPORTNO             0\n",
       "STATUS               0\n",
       "ADDRTYPE          1926\n",
       "INTKEY          129603\n",
       "LOCATION          2677\n",
       "EXCEPTRSNCODE   109862\n",
       "EXCEPTRSNDESC   189035\n",
       "SEVERITYCODE.1       0\n",
       "SEVERITYDESC         0\n",
       "COLLISIONTYPE     4904\n",
       "PERSONCOUNT          0\n",
       "PEDCOUNT             0\n",
       "PEDCYLCOUNT          0\n",
       "VEHCOUNT             0\n",
       "INCDATE              0\n",
       "INCDTTM              0\n",
       "JUNCTIONTYPE      6329\n",
       "SDOT_COLCODE         0\n",
       "SDOT_COLDESC         0\n",
       "INATTENTIONIND  164868\n",
       "UNDERINFL         4884\n",
       "WEATHER           5081\n",
       "ROADCOND          5012\n",
       "LIGHTCOND         5170\n",
       "PEDROWNOTGRNT   190006\n",
       "SDOTCOLNUM       79737\n",
       "SPEEDING        185340\n",
       "ST_COLCODE          18\n",
       "ST_COLDESC        4904\n",
       "SEGLANEKEY           0\n",
       "CROSSWALKKEY         0\n",
       "HITPARKEDCAR         0"
      ]
     },
     "execution_count": 6,
     "metadata": {},
     "output_type": "execute_result"
    }
   ],
   "source": [
    "accident_df.isnull().sum().to_frame()"
   ]
  },
  {
   "cell_type": "markdown",
   "metadata": {},
   "source": [
    "### 4.2) Data Cleanup"
   ]
  },
  {
   "cell_type": "code",
   "execution_count": 7,
   "metadata": {},
   "outputs": [],
   "source": [
    "accident_df[\"ACCIDENT_MONTH\"]=pd.DatetimeIndex(accident_df[\"INCDATE\"]).month #extractring month from INCDATE column"
   ]
  },
  {
   "cell_type": "code",
   "execution_count": 8,
   "metadata": {},
   "outputs": [
    {
     "data": {
      "text/html": [
       "<div>\n",
       "<style scoped>\n",
       "    .dataframe tbody tr th:only-of-type {\n",
       "        vertical-align: middle;\n",
       "    }\n",
       "\n",
       "    .dataframe tbody tr th {\n",
       "        vertical-align: top;\n",
       "    }\n",
       "\n",
       "    .dataframe thead th {\n",
       "        text-align: right;\n",
       "    }\n",
       "</style>\n",
       "<table border=\"1\" class=\"dataframe\">\n",
       "  <thead>\n",
       "    <tr style=\"text-align: right;\">\n",
       "      <th></th>\n",
       "      <th>SEVERITYCODE</th>\n",
       "      <th>X</th>\n",
       "      <th>Y</th>\n",
       "      <th>ADDRTYPE</th>\n",
       "      <th>PEDCOUNT</th>\n",
       "      <th>PEDCYLCOUNT</th>\n",
       "      <th>VEHCOUNT</th>\n",
       "      <th>INATTENTIONIND</th>\n",
       "      <th>UNDERINFL</th>\n",
       "      <th>WEATHER</th>\n",
       "      <th>ROADCOND</th>\n",
       "      <th>LIGHTCOND</th>\n",
       "      <th>SPEEDING</th>\n",
       "      <th>ACCIDENT_MONTH</th>\n",
       "    </tr>\n",
       "  </thead>\n",
       "  <tbody>\n",
       "    <tr>\n",
       "      <th>0</th>\n",
       "      <td>2</td>\n",
       "      <td>-122.323148</td>\n",
       "      <td>47.703140</td>\n",
       "      <td>Intersection</td>\n",
       "      <td>0</td>\n",
       "      <td>0</td>\n",
       "      <td>2</td>\n",
       "      <td>NaN</td>\n",
       "      <td>N</td>\n",
       "      <td>Overcast</td>\n",
       "      <td>Wet</td>\n",
       "      <td>Daylight</td>\n",
       "      <td>NaN</td>\n",
       "      <td>3</td>\n",
       "    </tr>\n",
       "    <tr>\n",
       "      <th>1</th>\n",
       "      <td>1</td>\n",
       "      <td>-122.347294</td>\n",
       "      <td>47.647172</td>\n",
       "      <td>Block</td>\n",
       "      <td>0</td>\n",
       "      <td>0</td>\n",
       "      <td>2</td>\n",
       "      <td>NaN</td>\n",
       "      <td>0</td>\n",
       "      <td>Raining</td>\n",
       "      <td>Wet</td>\n",
       "      <td>Dark - Street Lights On</td>\n",
       "      <td>NaN</td>\n",
       "      <td>12</td>\n",
       "    </tr>\n",
       "    <tr>\n",
       "      <th>2</th>\n",
       "      <td>1</td>\n",
       "      <td>-122.334540</td>\n",
       "      <td>47.607871</td>\n",
       "      <td>Block</td>\n",
       "      <td>0</td>\n",
       "      <td>0</td>\n",
       "      <td>3</td>\n",
       "      <td>NaN</td>\n",
       "      <td>0</td>\n",
       "      <td>Overcast</td>\n",
       "      <td>Dry</td>\n",
       "      <td>Daylight</td>\n",
       "      <td>NaN</td>\n",
       "      <td>11</td>\n",
       "    </tr>\n",
       "    <tr>\n",
       "      <th>3</th>\n",
       "      <td>1</td>\n",
       "      <td>-122.334803</td>\n",
       "      <td>47.604803</td>\n",
       "      <td>Block</td>\n",
       "      <td>0</td>\n",
       "      <td>0</td>\n",
       "      <td>3</td>\n",
       "      <td>NaN</td>\n",
       "      <td>N</td>\n",
       "      <td>Clear</td>\n",
       "      <td>Dry</td>\n",
       "      <td>Daylight</td>\n",
       "      <td>NaN</td>\n",
       "      <td>3</td>\n",
       "    </tr>\n",
       "    <tr>\n",
       "      <th>4</th>\n",
       "      <td>2</td>\n",
       "      <td>-122.306426</td>\n",
       "      <td>47.545739</td>\n",
       "      <td>Intersection</td>\n",
       "      <td>0</td>\n",
       "      <td>0</td>\n",
       "      <td>2</td>\n",
       "      <td>NaN</td>\n",
       "      <td>0</td>\n",
       "      <td>Raining</td>\n",
       "      <td>Wet</td>\n",
       "      <td>Daylight</td>\n",
       "      <td>NaN</td>\n",
       "      <td>1</td>\n",
       "    </tr>\n",
       "  </tbody>\n",
       "</table>\n",
       "</div>"
      ],
      "text/plain": [
       "   SEVERITYCODE           X          Y      ADDRTYPE  PEDCOUNT  PEDCYLCOUNT  \\\n",
       "0             2 -122.323148  47.703140  Intersection         0            0   \n",
       "1             1 -122.347294  47.647172         Block         0            0   \n",
       "2             1 -122.334540  47.607871         Block         0            0   \n",
       "3             1 -122.334803  47.604803         Block         0            0   \n",
       "4             2 -122.306426  47.545739  Intersection         0            0   \n",
       "\n",
       "   VEHCOUNT INATTENTIONIND UNDERINFL   WEATHER ROADCOND  \\\n",
       "0         2            NaN         N  Overcast      Wet   \n",
       "1         2            NaN         0   Raining      Wet   \n",
       "2         3            NaN         0  Overcast      Dry   \n",
       "3         3            NaN         N     Clear      Dry   \n",
       "4         2            NaN         0   Raining      Wet   \n",
       "\n",
       "                 LIGHTCOND SPEEDING  ACCIDENT_MONTH  \n",
       "0                 Daylight      NaN               3  \n",
       "1  Dark - Street Lights On      NaN              12  \n",
       "2                 Daylight      NaN              11  \n",
       "3                 Daylight      NaN               3  \n",
       "4                 Daylight      NaN               1  "
      ]
     },
     "execution_count": 8,
     "metadata": {},
     "output_type": "execute_result"
    }
   ],
   "source": [
    "list=[\"OBJECTID\",\"INCKEY\",\"COLDETKEY\",\"REPORTNO\",\"STATUS\",\"INCDATE\",\"INTKEY\",\"LOCATION\",\"EXCEPTRSNCODE\",\"SDOT_COLDESC\",\"EXCEPTRSNDESC\",\"SEVERITYCODE.1\",\"SEVERITYDESC\",\"COLLISIONTYPE\",\"PERSONCOUNT\",\"INCDTTM\",\"JUNCTIONTYPE\",\"SDOT_COLCODE\",\"PEDROWNOTGRNT\",\"SDOTCOLNUM\",\"ST_COLCODE\",\"ST_COLDESC\",\"SEGLANEKEY\",\"CROSSWALKKEY\",\"HITPARKEDCAR\"]\n",
    "accident_df.drop(list,axis=1,inplace=True) #Dropping Uneccessary Columns\n",
    "accident_df.head()\n"
   ]
  },
  {
   "cell_type": "code",
   "execution_count": 9,
   "metadata": {},
   "outputs": [
    {
     "data": {
      "text/html": [
       "<div>\n",
       "<style scoped>\n",
       "    .dataframe tbody tr th:only-of-type {\n",
       "        vertical-align: middle;\n",
       "    }\n",
       "\n",
       "    .dataframe tbody tr th {\n",
       "        vertical-align: top;\n",
       "    }\n",
       "\n",
       "    .dataframe thead th {\n",
       "        text-align: right;\n",
       "    }\n",
       "</style>\n",
       "<table border=\"1\" class=\"dataframe\">\n",
       "  <thead>\n",
       "    <tr style=\"text-align: right;\">\n",
       "      <th></th>\n",
       "      <th>SEVERITYCODE</th>\n",
       "      <th>X</th>\n",
       "      <th>Y</th>\n",
       "      <th>ADDRTYPE</th>\n",
       "      <th>PEDCOUNT</th>\n",
       "      <th>PEDCYLCOUNT</th>\n",
       "      <th>VEHCOUNT</th>\n",
       "      <th>INATTENTIONIND</th>\n",
       "      <th>UNDERINFL</th>\n",
       "      <th>WEATHER</th>\n",
       "      <th>ROADCOND</th>\n",
       "      <th>LIGHTCOND</th>\n",
       "      <th>SPEEDING</th>\n",
       "      <th>ACCIDENT_MONTH</th>\n",
       "    </tr>\n",
       "  </thead>\n",
       "  <tbody>\n",
       "    <tr>\n",
       "      <th>0</th>\n",
       "      <td>2</td>\n",
       "      <td>-122.323148</td>\n",
       "      <td>47.703140</td>\n",
       "      <td>Intersection</td>\n",
       "      <td>0</td>\n",
       "      <td>0</td>\n",
       "      <td>2</td>\n",
       "      <td>0</td>\n",
       "      <td>0</td>\n",
       "      <td>Overcast</td>\n",
       "      <td>Wet</td>\n",
       "      <td>Daylight</td>\n",
       "      <td>0</td>\n",
       "      <td>3</td>\n",
       "    </tr>\n",
       "    <tr>\n",
       "      <th>1</th>\n",
       "      <td>1</td>\n",
       "      <td>-122.347294</td>\n",
       "      <td>47.647172</td>\n",
       "      <td>Block</td>\n",
       "      <td>0</td>\n",
       "      <td>0</td>\n",
       "      <td>2</td>\n",
       "      <td>0</td>\n",
       "      <td>0</td>\n",
       "      <td>Raining</td>\n",
       "      <td>Wet</td>\n",
       "      <td>Dark - Street Lights On</td>\n",
       "      <td>0</td>\n",
       "      <td>12</td>\n",
       "    </tr>\n",
       "    <tr>\n",
       "      <th>2</th>\n",
       "      <td>1</td>\n",
       "      <td>-122.334540</td>\n",
       "      <td>47.607871</td>\n",
       "      <td>Block</td>\n",
       "      <td>0</td>\n",
       "      <td>0</td>\n",
       "      <td>3</td>\n",
       "      <td>0</td>\n",
       "      <td>0</td>\n",
       "      <td>Overcast</td>\n",
       "      <td>Dry</td>\n",
       "      <td>Daylight</td>\n",
       "      <td>0</td>\n",
       "      <td>11</td>\n",
       "    </tr>\n",
       "    <tr>\n",
       "      <th>3</th>\n",
       "      <td>1</td>\n",
       "      <td>-122.334803</td>\n",
       "      <td>47.604803</td>\n",
       "      <td>Block</td>\n",
       "      <td>0</td>\n",
       "      <td>0</td>\n",
       "      <td>3</td>\n",
       "      <td>0</td>\n",
       "      <td>0</td>\n",
       "      <td>Clear</td>\n",
       "      <td>Dry</td>\n",
       "      <td>Daylight</td>\n",
       "      <td>0</td>\n",
       "      <td>3</td>\n",
       "    </tr>\n",
       "    <tr>\n",
       "      <th>4</th>\n",
       "      <td>2</td>\n",
       "      <td>-122.306426</td>\n",
       "      <td>47.545739</td>\n",
       "      <td>Intersection</td>\n",
       "      <td>0</td>\n",
       "      <td>0</td>\n",
       "      <td>2</td>\n",
       "      <td>0</td>\n",
       "      <td>0</td>\n",
       "      <td>Raining</td>\n",
       "      <td>Wet</td>\n",
       "      <td>Daylight</td>\n",
       "      <td>0</td>\n",
       "      <td>1</td>\n",
       "    </tr>\n",
       "  </tbody>\n",
       "</table>\n",
       "</div>"
      ],
      "text/plain": [
       "   SEVERITYCODE           X          Y      ADDRTYPE  PEDCOUNT  PEDCYLCOUNT  \\\n",
       "0             2 -122.323148  47.703140  Intersection         0            0   \n",
       "1             1 -122.347294  47.647172         Block         0            0   \n",
       "2             1 -122.334540  47.607871         Block         0            0   \n",
       "3             1 -122.334803  47.604803         Block         0            0   \n",
       "4             2 -122.306426  47.545739  Intersection         0            0   \n",
       "\n",
       "   VEHCOUNT INATTENTIONIND UNDERINFL   WEATHER ROADCOND  \\\n",
       "0         2              0         0  Overcast      Wet   \n",
       "1         2              0         0   Raining      Wet   \n",
       "2         3              0         0  Overcast      Dry   \n",
       "3         3              0         0     Clear      Dry   \n",
       "4         2              0         0   Raining      Wet   \n",
       "\n",
       "                 LIGHTCOND SPEEDING  ACCIDENT_MONTH  \n",
       "0                 Daylight        0               3  \n",
       "1  Dark - Street Lights On        0              12  \n",
       "2                 Daylight        0              11  \n",
       "3                 Daylight        0               3  \n",
       "4                 Daylight        0               1  "
      ]
     },
     "execution_count": 9,
     "metadata": {},
     "output_type": "execute_result"
    }
   ],
   "source": [
    "accident_df[\"UNDERINFL\"]=accident_df[\"UNDERINFL\"].replace(\"N\",\"0\")\n",
    "accident_df[\"UNDERINFL\"]=accident_df[\"UNDERINFL\"].replace(\"Y\",\"1\")\n",
    "accident_df[\"INATTENTIONIND\"]=accident_df[\"INATTENTIONIND\"].fillna(0)\n",
    "accident_df[\"INATTENTIONIND\"]=accident_df[\"INATTENTIONIND\"].replace(\"Y\",\"1\")\n",
    "accident_df[\"SPEEDING\"]=accident_df[\"SPEEDING\"].fillna(0)\n",
    "accident_df[\"SPEEDING\"]=accident_df[\"SPEEDING\"].replace(\"Y\",\"1\")\n",
    "accident_df.head()"
   ]
  },
  {
   "cell_type": "code",
   "execution_count": 10,
   "metadata": {},
   "outputs": [],
   "source": [
    "#Since most of the dependent variables are of categorical type it is better to drop that data rather than replacing it \n",
    "accident_df[\"X\"].dropna(axis=0,inplace=True)\n",
    "accident_df[\"SEVERITYCODE\"].dropna(axis=0,inplace=True)\n",
    "accident_df[\"Y\"].dropna(axis=0,inplace=True)\n",
    "accident_df[\"ADDRTYPE\"].dropna(axis=0,inplace=True)\n",
    "accident_df[\"VEHCOUNT\"].dropna(axis=0,inplace=True)\n",
    "accident_df[\"WEATHER\"].dropna(axis=0,inplace=True)\n",
    "accident_df[\"ROADCOND\"].dropna(axis=0,inplace=True)\n",
    "accident_df[\"LIGHTCOND\"].dropna(axis=0,inplace=True)\n",
    "accident_df[\"ACCIDENT_MONTH\"].dropna(axis=0,inplace=True)\n",
    "accident_df[\"UNDERINFL\"].dropna(axis=0,inplace=True)"
   ]
  },
  {
   "cell_type": "code",
   "execution_count": 11,
   "metadata": {},
   "outputs": [
    {
     "name": "stdout",
     "output_type": "stream",
     "text": [
      "The Number of NAN values in Severity code is: 0\n",
      "The Number of NAN values in X is: 0\n",
      "The Number of NAN values in Y is: 0\n",
      "The Number of NAN values in ADDRTYPE is: 0\n",
      "The Number of NAN values in VEHCOUNT is: 0\n",
      "The Number of NAN values in WEATHER is: 0\n",
      "The Number of NAN values in ROADCOND is: 0\n",
      "The Number of NAN values in LIGHTCOND is: 0\n",
      "The Number of NAN values in ACCIDENT_MONTH is: 0\n"
     ]
    }
   ],
   "source": [
    "print(\"The Number of NAN values in Severity code is:\", accident_df[\"SEVERITYCODE\"].isnull().sum())\n",
    "print(\"The Number of NAN values in X is:\", accident_df[\"X\"].isnull().sum())\n",
    "print(\"The Number of NAN values in Y is:\",accident_df[\"Y\"].isnull().sum())\n",
    "print(\"The Number of NAN values in ADDRTYPE is:\",accident_df[\"ADDRTYPE\"].isnull().sum())\n",
    "print(\"The Number of NAN values in VEHCOUNT is:\",accident_df[\"VEHCOUNT\"].isnull().sum())\n",
    "print(\"The Number of NAN values in WEATHER is:\",accident_df[\"WEATHER\"].isnull().sum())\n",
    "print(\"The Number of NAN values in ROADCOND is:\",accident_df[\"ROADCOND\"].isnull().sum())\n",
    "print(\"The Number of NAN values in LIGHTCOND is:\",accident_df[\"LIGHTCOND\"].isnull().sum())\n",
    "print(\"The Number of NAN values in ACCIDENT_MONTH is:\",accident_df[\"ACCIDENT_MONTH\"].isnull().sum())"
   ]
  },
  {
   "cell_type": "markdown",
   "metadata": {},
   "source": [
    "### 4.3) Exploratory Data Analysis"
   ]
  },
  {
   "cell_type": "code",
   "execution_count": 12,
   "metadata": {},
   "outputs": [
    {
     "data": {
      "text/plain": [
       "<matplotlib.axes._subplots.AxesSubplot at 0x282edf63730>"
      ]
     },
     "execution_count": 12,
     "metadata": {},
     "output_type": "execute_result"
    },
    {
     "data": {
      "image/png": "[encoded data removed]",
      "text/plain": [
       "<Figure size 432x288 with 1 Axes>"
      ]
     },
     "metadata": {
      "needs_background": "light"
     },
     "output_type": "display_data"
    }
   ],
   "source": [
    "df=accident_df[[\"INATTENTIONIND\",\"SEVERITYCODE\"]]\n",
    "sns.countplot(x=\"INATTENTIONIND\",hue=\"SEVERITYCODE\",data=df)"
   ]
  },
  {
   "cell_type": "markdown",
   "metadata": {},
   "source": [
    "The Total count of accidents with Injury(severity 2) due to inattention are 10397 and percentage is 34.88%\n"
   ]
  },
  {
   "cell_type": "markdown",
   "metadata": {},
   "source": [
    "The Total count of accidents with Injury(severity 2) when people were attentive are 47791 and percentage is 28.98%"
   ]
  },
  {
   "cell_type": "code",
   "execution_count": 13,
   "metadata": {},
   "outputs": [
    {
     "data": {
      "text/plain": [
       "<matplotlib.axes._subplots.AxesSubplot at 0x282f1c39520>"
      ]
     },
     "execution_count": 13,
     "metadata": {},
     "output_type": "execute_result"
    },
    {
     "data": {
      "image/png": "[encoded data removed]",
      "text/plain": [
       "<Figure size 432x288 with 1 Axes>"
      ]
     },
     "metadata": {
      "needs_background": "light"
     },
     "output_type": "display_data"
    }
   ],
   "source": [
    "sns.countplot(x=\"UNDERINFL\",hue=\"SEVERITYCODE\",data=accident_df)"
   ]
  },
  {
   "cell_type": "markdown",
   "metadata": {},
   "source": [
    "The Total count of accidents with Injuries(Severity=2) under the influence are 3562 and percentage is 39.06%"
   ]
  },
  {
   "cell_type": "markdown",
   "metadata": {},
   "source": [
    "The Total count of accidents with Injuries(Severity=2) not under influence are 53597 and percentage is 29.67%"
   ]
  },
  {
   "cell_type": "code",
   "execution_count": 14,
   "metadata": {},
   "outputs": [
    {
     "data": {
      "text/plain": [
       "<matplotlib.axes._subplots.AxesSubplot at 0x282f1ca49a0>"
      ]
     },
     "execution_count": 14,
     "metadata": {},
     "output_type": "execute_result"
    },
    {
     "data": {
      "image/png": "[encoded data removed]",
      "text/plain": [
       "<Figure size 432x288 with 1 Axes>"
      ]
     },
     "metadata": {
      "needs_background": "light"
     },
     "output_type": "display_data"
    }
   ],
   "source": [
    "sns.countplot(x=\"SPEEDING\",hue=\"SEVERITYCODE\",data=accident_df)"
   ]
  },
  {
   "cell_type": "markdown",
   "metadata": {},
   "source": [
    "The Total count of accidents with Injuries(Severity=2) when speeding was involved are 3531 and percentage is 37.83%"
   ]
  },
  {
   "cell_type": "markdown",
   "metadata": {},
   "source": [
    "The Total count of accidents with Injuries(Severity=2) when speeding was not involved are 54657 and percentage is 29.5% "
   ]
  },
  {
   "cell_type": "markdown",
   "metadata": {},
   "source": [
    "#### Since INATTENTION, DRIVING UNDER INFLUENCES and SPEEDING are criminal offences we can say that on Analysis of CRIMINAL OFFENCES v/s SEVERITY CODE it is found that criminal offences increases the chances of accidents resulting in injuries(Severity Code=2) by approximately 8-9%"
   ]
  },
  {
   "cell_type": "code",
   "execution_count": 15,
   "metadata": {},
   "outputs": [
    {
     "data": {
      "text/plain": [
       "<matplotlib.axes._subplots.AxesSubplot at 0x282f6bd3d30>"
      ]
     },
     "execution_count": 15,
     "metadata": {},
     "output_type": "execute_result"
    },
    {
     "data": {
      "image/png": "[encoded data removed]",
      "text/plain": [
       "<Figure size 432x288 with 1 Axes>"
      ]
     },
     "metadata": {
      "needs_background": "light"
     },
     "output_type": "display_data"
    }
   ],
   "source": [
    "sns.countplot(x=\"ADDRTYPE\",hue=\"SEVERITYCODE\",data=accident_df)"
   ]
  },
  {
   "cell_type": "markdown",
   "metadata": {},
   "source": [
    "### Addrtype: -\n",
    "#### Intersection-\n",
    "The total count of accident with injuries(Severity=2) are 27819 and percentage is 42.75%\n",
    "#### Block-\n",
    "The total count of accident with injuries(Severity=2) are 30096 and percentage is 23.71%\n",
    "#### Alley-\n",
    "The total count of accident with injuries(Severity=2) are 82 and percentage is 10.91%"
   ]
  },
  {
   "cell_type": "markdown",
   "metadata": {},
   "source": [
    "#### On Analysis of data feature ADDRTYPE, describing the location of accidents shows that majority of accidents that result in injury(SEVERITYCODE=2) are intersection related as compared to any other location."
   ]
  },
  {
   "cell_type": "code",
   "execution_count": 16,
   "metadata": {},
   "outputs": [
    {
     "data": {
      "text/plain": [
       "Clear                       111135\n",
       "Raining                      33145\n",
       "Overcast                     27714\n",
       "Unknown                      15091\n",
       "Snowing                        907\n",
       "Other                          832\n",
       "Fog/Smog/Smoke                 569\n",
       "Sleet/Hail/Freezing Rain       113\n",
       "Blowing Sand/Dirt               56\n",
       "Severe Crosswind                25\n",
       "Partly Cloudy                    5\n",
       "Name: WEATHER_1, dtype: int64"
      ]
     },
     "execution_count": 16,
     "metadata": {},
     "output_type": "execute_result"
    }
   ],
   "source": [
    "accident_df[\"WEATHER_1\"]=accident_df[\"WEATHER\"]\n",
    "accident_df[\"WEATHER_1\"].value_counts()"
   ]
  },
  {
   "cell_type": "code",
   "execution_count": 17,
   "metadata": {},
   "outputs": [
    {
     "data": {
      "text/html": [
       "<div>\n",
       "<style scoped>\n",
       "    .dataframe tbody tr th:only-of-type {\n",
       "        vertical-align: middle;\n",
       "    }\n",
       "\n",
       "    .dataframe tbody tr th {\n",
       "        vertical-align: top;\n",
       "    }\n",
       "\n",
       "    .dataframe thead th {\n",
       "        text-align: right;\n",
       "    }\n",
       "</style>\n",
       "<table border=\"1\" class=\"dataframe\">\n",
       "  <thead>\n",
       "    <tr style=\"text-align: right;\">\n",
       "      <th></th>\n",
       "      <th>SEVERITYCODE</th>\n",
       "      <th>X</th>\n",
       "      <th>Y</th>\n",
       "      <th>ADDRTYPE</th>\n",
       "      <th>PEDCOUNT</th>\n",
       "      <th>PEDCYLCOUNT</th>\n",
       "      <th>VEHCOUNT</th>\n",
       "      <th>INATTENTIONIND</th>\n",
       "      <th>UNDERINFL</th>\n",
       "      <th>WEATHER</th>\n",
       "      <th>ROADCOND</th>\n",
       "      <th>LIGHTCOND</th>\n",
       "      <th>SPEEDING</th>\n",
       "      <th>ACCIDENT_MONTH</th>\n",
       "      <th>WEATHER_1</th>\n",
       "    </tr>\n",
       "  </thead>\n",
       "  <tbody>\n",
       "    <tr>\n",
       "      <th>0</th>\n",
       "      <td>2</td>\n",
       "      <td>-122.323148</td>\n",
       "      <td>47.703140</td>\n",
       "      <td>Intersection</td>\n",
       "      <td>0</td>\n",
       "      <td>0</td>\n",
       "      <td>2</td>\n",
       "      <td>0</td>\n",
       "      <td>0</td>\n",
       "      <td>Overcast</td>\n",
       "      <td>Wet</td>\n",
       "      <td>Daylight</td>\n",
       "      <td>0</td>\n",
       "      <td>3</td>\n",
       "      <td>3</td>\n",
       "    </tr>\n",
       "    <tr>\n",
       "      <th>1</th>\n",
       "      <td>1</td>\n",
       "      <td>-122.347294</td>\n",
       "      <td>47.647172</td>\n",
       "      <td>Block</td>\n",
       "      <td>0</td>\n",
       "      <td>0</td>\n",
       "      <td>2</td>\n",
       "      <td>0</td>\n",
       "      <td>0</td>\n",
       "      <td>Raining</td>\n",
       "      <td>Wet</td>\n",
       "      <td>Dark - Street Lights On</td>\n",
       "      <td>0</td>\n",
       "      <td>12</td>\n",
       "      <td>2</td>\n",
       "    </tr>\n",
       "    <tr>\n",
       "      <th>2</th>\n",
       "      <td>1</td>\n",
       "      <td>-122.334540</td>\n",
       "      <td>47.607871</td>\n",
       "      <td>Block</td>\n",
       "      <td>0</td>\n",
       "      <td>0</td>\n",
       "      <td>3</td>\n",
       "      <td>0</td>\n",
       "      <td>0</td>\n",
       "      <td>Overcast</td>\n",
       "      <td>Dry</td>\n",
       "      <td>Daylight</td>\n",
       "      <td>0</td>\n",
       "      <td>11</td>\n",
       "      <td>3</td>\n",
       "    </tr>\n",
       "    <tr>\n",
       "      <th>3</th>\n",
       "      <td>1</td>\n",
       "      <td>-122.334803</td>\n",
       "      <td>47.604803</td>\n",
       "      <td>Block</td>\n",
       "      <td>0</td>\n",
       "      <td>0</td>\n",
       "      <td>3</td>\n",
       "      <td>0</td>\n",
       "      <td>0</td>\n",
       "      <td>Clear</td>\n",
       "      <td>Dry</td>\n",
       "      <td>Daylight</td>\n",
       "      <td>0</td>\n",
       "      <td>3</td>\n",
       "      <td>1</td>\n",
       "    </tr>\n",
       "    <tr>\n",
       "      <th>4</th>\n",
       "      <td>2</td>\n",
       "      <td>-122.306426</td>\n",
       "      <td>47.545739</td>\n",
       "      <td>Intersection</td>\n",
       "      <td>0</td>\n",
       "      <td>0</td>\n",
       "      <td>2</td>\n",
       "      <td>0</td>\n",
       "      <td>0</td>\n",
       "      <td>Raining</td>\n",
       "      <td>Wet</td>\n",
       "      <td>Daylight</td>\n",
       "      <td>0</td>\n",
       "      <td>1</td>\n",
       "      <td>2</td>\n",
       "    </tr>\n",
       "  </tbody>\n",
       "</table>\n",
       "</div>"
      ],
      "text/plain": [
       "   SEVERITYCODE           X          Y      ADDRTYPE  PEDCOUNT  PEDCYLCOUNT  \\\n",
       "0             2 -122.323148  47.703140  Intersection         0            0   \n",
       "1             1 -122.347294  47.647172         Block         0            0   \n",
       "2             1 -122.334540  47.607871         Block         0            0   \n",
       "3             1 -122.334803  47.604803         Block         0            0   \n",
       "4             2 -122.306426  47.545739  Intersection         0            0   \n",
       "\n",
       "   VEHCOUNT INATTENTIONIND UNDERINFL   WEATHER ROADCOND  \\\n",
       "0         2              0         0  Overcast      Wet   \n",
       "1         2              0         0   Raining      Wet   \n",
       "2         3              0         0  Overcast      Dry   \n",
       "3         3              0         0     Clear      Dry   \n",
       "4         2              0         0   Raining      Wet   \n",
       "\n",
       "                 LIGHTCOND SPEEDING  ACCIDENT_MONTH WEATHER_1  \n",
       "0                 Daylight        0               3         3  \n",
       "1  Dark - Street Lights On        0              12         2  \n",
       "2                 Daylight        0              11         3  \n",
       "3                 Daylight        0               3         1  \n",
       "4                 Daylight        0               1         2  "
      ]
     },
     "execution_count": 17,
     "metadata": {},
     "output_type": "execute_result"
    }
   ],
   "source": [
    "accident_df[\"WEATHER_1\"]=accident_df[\"WEATHER_1\"].replace(\"Clear\",\"1\")\n",
    "accident_df[\"WEATHER_1\"]=accident_df[\"WEATHER_1\"].replace(\"Raining\",\"2\")\n",
    "accident_df[\"WEATHER_1\"]=accident_df[\"WEATHER_1\"].replace(\"Overcast\",\"3\")\n",
    "accident_df[\"WEATHER_1\"]=accident_df[\"WEATHER_1\"].replace(\"Snowing\",\"4\")\n",
    "accident_df[\"WEATHER_1\"]=accident_df[\"WEATHER_1\"].replace(\"Other\",\"5\")\n",
    "accident_df[\"WEATHER_1\"]=accident_df[\"WEATHER_1\"].replace(\"Fog/Smog/Smoke\",\"6\")\n",
    "accident_df[\"WEATHER_1\"]=accident_df[\"WEATHER_1\"].replace(\"Sleet/Hail/Freezing Rain\",\"7\")\n",
    "accident_df[\"WEATHER_1\"]=accident_df[\"WEATHER_1\"].replace(\"Blowing Sand/Dirt\",\"8\")\n",
    "accident_df[\"WEATHER_1\"]=accident_df[\"WEATHER_1\"].replace(\"Severe Crosswind\",\"9\")\n",
    "accident_df[\"WEATHER_1\"]=accident_df[\"WEATHER_1\"].replace(\"Partly Cloudy\",\"10\")\n",
    "accident_df.head()"
   ]
  },
  {
   "cell_type": "code",
   "execution_count": 18,
   "metadata": {},
   "outputs": [
    {
     "data": {
      "text/plain": [
       "<matplotlib.axes._subplots.AxesSubplot at 0x282f6d29d60>"
      ]
     },
     "execution_count": 18,
     "metadata": {},
     "output_type": "execute_result"
    },
    {
     "data": {
      "image/png": "[encoded data removed]",
      "text/plain": [
       "<Figure size 432x288 with 1 Axes>"
      ]
     },
     "metadata": {
      "needs_background": "light"
     },
     "output_type": "display_data"
    }
   ],
   "source": [
    "sns.countplot(x=\"WEATHER_1\",hue=\"SEVERITYCODE\",data=accident_df)"
   ]
  },
  {
   "cell_type": "markdown",
   "metadata": {},
   "source": [
    "### Weather-\n",
    "The total count of accident with injuries(Severity=2) when weather was clear(value=1)are 35840 and percentage is 32.25%\n",
    "\n",
    "The total count of accident with injuries(Severity=2) when weather was rainy(value=2)are 11176 and percentage is 33.72%\n",
    "\n",
    "The total count of accident with injuries(Severity=2) when weather was overcast(value=3)are 8745 and percentage is 31.55%\n",
    "\n",
    "The total count of accident with injuries(Severity=2) when weather was snowing(value=4)are 171 and percentage is 18.85%\n",
    "\n",
    "The total count of accident with injuries(Severity=2) when weather was fog/smog/smoke(value=6) are 187 and percentage is 32.86%\n",
    "\n",
    "The total count of accident with injuries(Severity=2) when weather was sleet/hail/freezing rain(value=7) are 28 and percentage is 24.78%\n",
    "\n",
    "The total count of accident with injuries(Severity=2) when weather was blowing sand/dirt(value=8) are 15 and percentage is 21.12%\n",
    "\n",
    "The total count of accident with injuries(Severity=2) when weather was severe crosswind(value=9) are 7 and percentage is 28%\n",
    "\n",
    "The total count of accident with injuries(Severity=2) when weather was partly cloudy(value=10) are 3 and percentage is 60%\n",
    "\n",
    "The total count of accident with injuries(Severity=2) when weather was other than above conditions(value=5) are 116 and percentage is 13.94%"
   ]
  },
  {
   "cell_type": "markdown",
   "metadata": {},
   "source": [
    "#### Maximum accidents that result in injury takes place mostly in partly cloudy weather condition that is around 60% but this result cannot be considered statistically stable as only 5 counts of such accidents are recorded. The other weather conditions that have high rate of injury related to accidents are rainy(33.72%), fog/smog/smoke(32.86%), overcast(31.55%) and clear(32.25%). It seems logical that due to lower visiblity conditions and wet roads the chances of accident leading to injuries increases.\n",
    "\n",
    "#### With Clear being the one proving to give a counter intutive idea at first glance it can be explained further in the report. "
   ]
  },
  {
   "cell_type": "code",
   "execution_count": 19,
   "metadata": {},
   "outputs": [
    {
     "data": {
      "text/plain": [
       "Dry               124510\n",
       "Wet                47474\n",
       "Unknown            15078\n",
       "Ice                 1209\n",
       "Snow/Slush          1004\n",
       "Other                132\n",
       "Standing Water       115\n",
       "Sand/Mud/Dirt         75\n",
       "Oil                   64\n",
       "Name: ROADCOND, dtype: int64"
      ]
     },
     "execution_count": 19,
     "metadata": {},
     "output_type": "execute_result"
    }
   ],
   "source": [
    "accident_df[\"ROADCOND\"].value_counts()"
   ]
  },
  {
   "cell_type": "code",
   "execution_count": 20,
   "metadata": {},
   "outputs": [],
   "source": [
    "accident_df[\"ROADCOND_1\"]=accident_df[\"ROADCOND\"]\n",
    "accident_df[\"ROADCOND_1\"]=accident_df[\"ROADCOND_1\"].replace(\"Dry\",\"1\")\n",
    "accident_df[\"ROADCOND_1\"]=accident_df[\"ROADCOND_1\"].replace(\"Wet\",\"2\")\n",
    "accident_df[\"ROADCOND_1\"]=accident_df[\"ROADCOND_1\"].replace(\"Ice\",\"3\")\n",
    "accident_df[\"ROADCOND_1\"]=accident_df[\"ROADCOND_1\"].replace(\"Snow/Slush\",\"4\")\n",
    "accident_df[\"ROADCOND_1\"]=accident_df[\"ROADCOND_1\"].replace(\"Other\",\"5\")\n",
    "accident_df[\"ROADCOND_1\"]=accident_df[\"ROADCOND_1\"].replace(\"Standing Water\",\"6\")\n",
    "accident_df[\"ROADCOND_1\"]=accident_df[\"ROADCOND_1\"].replace(\"Sand/Mud/Dirt\",\"7\")\n",
    "accident_df[\"ROADCOND_1\"]=accident_df[\"ROADCOND_1\"].replace(\"Oil\",\"8\")\n"
   ]
  },
  {
   "cell_type": "code",
   "execution_count": 21,
   "metadata": {},
   "outputs": [
    {
     "data": {
      "text/plain": [
       "<matplotlib.axes._subplots.AxesSubplot at 0x282eedf89a0>"
      ]
     },
     "execution_count": 21,
     "metadata": {},
     "output_type": "execute_result"
    },
    {
     "data": {
      "image/png": "[encoded data removed]",
      "text/plain": [
       "<Figure size 432x288 with 1 Axes>"
      ]
     },
     "metadata": {
      "needs_background": "light"
     },
     "output_type": "display_data"
    }
   ],
   "source": [
    "sns.countplot(x=\"ROADCOND_1\",hue=\"SEVERITYCODE\",data=accident_df)"
   ]
  },
  {
   "cell_type": "markdown",
   "metadata": {},
   "source": [
    "### Road Condtion-\n",
    "The total count of accident with injuries(Severity=2) when roads were dry(value=1)are 40064 and percentage is 32.18%\n",
    "\n",
    "The total count of accident with injuries(Severity=2) when roads were wet(value=2)are 15755 and percentage is 33.19%\n",
    "\n",
    "The total count of accident with injuries(Severity=2) when roads had ice(value=3)are 273 and percentage is 22.58%\n",
    "\n",
    "The total count of accident with injuries(Severity=2) when roads had snow/slush(value=4)are 167 and percentage is 16.63%\n",
    "\n",
    "The total count of accident with injuries(Severity=2) when roads had standing water(value=6)are 30 and percentage is 26.09%\n",
    "\n",
    "The total count of accident with injuries(Severity=2) when roads had sand/mud/dirt(value=7)are 23 and percentage is 30.67%\n",
    "\n",
    "The total count of accident with injuries(Severity=2) when roads had oil(value=8)are 24 and percentage is 37.5%\n",
    "\n",
    "The total count of accident with injuries(Severity=2) when roads had condition any other than above(value=5)are 43 and percentage is 32.58%"
   ]
  },
  {
   "cell_type": "markdown",
   "metadata": {},
   "source": [
    "#### Oily Roads have one of the highest risk causing accidents that lead to injuries at 37.5% but with only 24 counts of such actual accidents being recorded shows that this statement is not stable statistically. The other conditions that impose a high risk are wet and dry which can be directly correlated with weather conditions. "
   ]
  },
  {
   "cell_type": "code",
   "execution_count": 22,
   "metadata": {},
   "outputs": [
    {
     "data": {
      "text/plain": [
       "Daylight                    116137\n",
       "Dark - Street Lights On      48507\n",
       "Unknown                      13473\n",
       "Dusk                          5902\n",
       "Dawn                          2502\n",
       "Dark - No Street Lights       1537\n",
       "Dark - Street Lights Off      1199\n",
       "Other                          235\n",
       "Dark - Unknown Lighting         11\n",
       "Name: LIGHTCOND, dtype: int64"
      ]
     },
     "execution_count": 22,
     "metadata": {},
     "output_type": "execute_result"
    }
   ],
   "source": [
    "accident_df[\"LIGHTCOND\"].value_counts()"
   ]
  },
  {
   "cell_type": "code",
   "execution_count": 23,
   "metadata": {},
   "outputs": [
    {
     "data": {
      "text/plain": [
       "<matplotlib.axes._subplots.AxesSubplot at 0x282f10c92b0>"
      ]
     },
     "execution_count": 23,
     "metadata": {},
     "output_type": "execute_result"
    },
    {
     "data": {
      "image/png": "[encoded data removed]",
      "text/plain": [
       "<Figure size 432x288 with 1 Axes>"
      ]
     },
     "metadata": {
      "needs_background": "light"
     },
     "output_type": "display_data"
    }
   ],
   "source": [
    "accident_df[\"LIGHTCOND_1\"]=accident_df[\"LIGHTCOND\"]\n",
    "accident_df[\"LIGHTCOND_1\"]=accident_df[\"LIGHTCOND_1\"].replace(\"Daylight\",\"1\")\n",
    "accident_df[\"LIGHTCOND_1\"]=accident_df[\"LIGHTCOND_1\"].replace(\"Dark - Street Lights On\",\"2\")\n",
    "accident_df[\"LIGHTCOND_1\"]=accident_df[\"LIGHTCOND_1\"].replace(\"Dusk\",\"3\")\n",
    "accident_df[\"LIGHTCOND_1\"]=accident_df[\"LIGHTCOND_1\"].replace(\"Dawn\",\"4\")\n",
    "accident_df[\"LIGHTCOND_1\"]=accident_df[\"LIGHTCOND_1\"].replace(\"Dark - No Street Lights\",\"5\")\n",
    "accident_df[\"LIGHTCOND_1\"]=accident_df[\"LIGHTCOND_1\"].replace(\"Dark - Street Lights Off\",\"6\")\n",
    "accident_df[\"LIGHTCOND_1\"]=accident_df[\"LIGHTCOND_1\"].replace(\"Other\",\"7\")\n",
    "accident_df[\"LIGHTCOND_1\"]=accident_df[\"LIGHTCOND_1\"].replace(\"Dark - Unknown Lighting\",\"8\")\n",
    "sns.countplot(x=\"LIGHTCOND_1\",hue=\"SEVERITYCODE\",data=accident_df)"
   ]
  },
  {
   "cell_type": "markdown",
   "metadata": {},
   "source": [
    "### Light Condition-\n",
    "The total count of accident with injuries(Severity=2) during daylight(value=1)are 38544 and percentage is 33.19%\n",
    "\n",
    "The total count of accident with injuries(Severity=2) during night in areas where streetlights were on (value=2)are 14475 and percentage is 29.84%\n",
    "\n",
    "The total count of accident with injuries(Severity=2) during dusk(value=3)are 1944 and percentage is 32.94%\n",
    "\n",
    "The total count of accident with injuries(Severity=2) during dawn(value=4)are 824 and percentage is 32.94%\n",
    "\n",
    "The total count of accident with injuries(Severity=2) during night in areas where there are no street lights(value=5)are 334 and percentage is 21.73%\n",
    "\n",
    "The total count of accident with injuries(Severity=2) during night in areas where street lights were off(value=6)are 316 and percentage is 26.36%\n",
    "\n",
    "The total count of accident with injuries(Severity=2) during night in an unknown light source(value=8)are 4 and percentage is 36.36%\n",
    "\n",
    "The total count of accident with injuries(Severity=2) when light conditions were other than above(value=7)are 52 and percentage is 22.13%"
   ]
  },
  {
   "cell_type": "markdown",
   "metadata": {},
   "source": [
    "#### On anlysing the data feature of LIGHT CONDITION it can be said that almost majority of injury related accidents take place at time of day, dawn and dusk with 33.19%, 32.94% and 32.94% respectively.  "
   ]
  },
  {
   "cell_type": "code",
   "execution_count": 24,
   "metadata": {},
   "outputs": [
    {
     "data": {
      "text/plain": [
       "<matplotlib.axes._subplots.AxesSubplot at 0x282edf63b50>"
      ]
     },
     "execution_count": 24,
     "metadata": {},
     "output_type": "execute_result"
    },
    {
     "data": {
      "image/png": "[encoded data removed]",
      "text/plain": [
       "<Figure size 432x288 with 1 Axes>"
      ]
     },
     "metadata": {
      "needs_background": "light"
     },
     "output_type": "display_data"
    }
   ],
   "source": [
    "sns.countplot(x=\"PEDCOUNT\",hue=\"SEVERITYCODE\",data=accident_df)"
   ]
  },
  {
   "cell_type": "markdown",
   "metadata": {},
   "source": [
    "The total count of accident with injuries(Severity=2) when one or more than one pedestrians were involved are 6241 and percentage is 89.94%\n",
    "\n",
    "The total count of accident with injuries(Severity=2) when no pedestrians were involved are 51947 and percentage is 27.62%"
   ]
  },
  {
   "cell_type": "code",
   "execution_count": 25,
   "metadata": {},
   "outputs": [
    {
     "data": {
      "text/plain": [
       "<matplotlib.axes._subplots.AxesSubplot at 0x282f1806460>"
      ]
     },
     "execution_count": 25,
     "metadata": {},
     "output_type": "execute_result"
    },
    {
     "data": {
      "image/png": "[encoded data removed]",
      "text/plain": [
       "<Figure size 432x288 with 1 Axes>"
      ]
     },
     "metadata": {
      "needs_background": "light"
     },
     "output_type": "display_data"
    }
   ],
   "source": [
    "sns.countplot(x=\"PEDCYLCOUNT\",hue=\"SEVERITYCODE\",data=accident_df)"
   ]
  },
  {
   "cell_type": "markdown",
   "metadata": {},
   "source": [
    "The total count of accident with injuries(Severity=2) when one or more than one cycle users were involved are 4805 and percentage is 87.62%\n",
    "\n",
    "The total count of accident with injuries(Severity=2) when no cycle users were involved are 53383 and percentage is 28.22%"
   ]
  },
  {
   "cell_type": "markdown",
   "metadata": {},
   "source": [
    "#### The involvement of pedestrians and cycle users increase the risk of accidents leading to injury(SEVERITY CODE=2) by approximately 88%. This can also explain the high rate of accidents with injuries during the clear weather, with dry roads as during such weather conditions the number of people coming out of their house increases "
   ]
  },
  {
   "cell_type": "code",
   "execution_count": 26,
   "metadata": {},
   "outputs": [
    {
     "data": {
      "text/plain": [
       "<matplotlib.axes._subplots.AxesSubplot at 0x282f13116d0>"
      ]
     },
     "execution_count": 26,
     "metadata": {},
     "output_type": "execute_result"
    },
    {
     "data": {
      "image/png": "[encoded data removed]",
      "text/plain": [
       "<Figure size 432x288 with 1 Axes>"
      ]
     },
     "metadata": {
      "needs_background": "light"
     },
     "output_type": "display_data"
    }
   ],
   "source": [
    "sns.countplot(x=\"ACCIDENT_MONTH\",hue=\"SEVERITYCODE\",data=accident_df)"
   ]
  },
  {
   "cell_type": "markdown",
   "metadata": {},
   "source": [
    "#### The graph shows that on an average the same amount of traffic accidents take place each month "
   ]
  },
  {
   "cell_type": "markdown",
   "metadata": {},
   "source": [
    "### 4.4) Model Building"
   ]
  },
  {
   "cell_type": "markdown",
   "metadata": {},
   "source": [
    "#### 4.4.1) Data Preprocessing"
   ]
  },
  {
   "cell_type": "code",
   "execution_count": 27,
   "metadata": {},
   "outputs": [
    {
     "data": {
      "text/html": [
       "<div>\n",
       "<style scoped>\n",
       "    .dataframe tbody tr th:only-of-type {\n",
       "        vertical-align: middle;\n",
       "    }\n",
       "\n",
       "    .dataframe tbody tr th {\n",
       "        vertical-align: top;\n",
       "    }\n",
       "\n",
       "    .dataframe thead th {\n",
       "        text-align: right;\n",
       "    }\n",
       "</style>\n",
       "<table border=\"1\" class=\"dataframe\">\n",
       "  <thead>\n",
       "    <tr style=\"text-align: right;\">\n",
       "      <th></th>\n",
       "      <th>SEVERITYCODE</th>\n",
       "      <th>ADDRTYPE</th>\n",
       "      <th>PEDCOUNT</th>\n",
       "      <th>PEDCYLCOUNT</th>\n",
       "      <th>WEATHER</th>\n",
       "      <th>ROADCOND</th>\n",
       "      <th>LIGHTCOND</th>\n",
       "    </tr>\n",
       "  </thead>\n",
       "  <tbody>\n",
       "    <tr>\n",
       "      <th>0</th>\n",
       "      <td>2</td>\n",
       "      <td>Intersection</td>\n",
       "      <td>0</td>\n",
       "      <td>0</td>\n",
       "      <td>Overcast</td>\n",
       "      <td>Wet</td>\n",
       "      <td>Daylight</td>\n",
       "    </tr>\n",
       "    <tr>\n",
       "      <th>1</th>\n",
       "      <td>1</td>\n",
       "      <td>Block</td>\n",
       "      <td>0</td>\n",
       "      <td>0</td>\n",
       "      <td>Raining</td>\n",
       "      <td>Wet</td>\n",
       "      <td>Dark - Street Lights On</td>\n",
       "    </tr>\n",
       "    <tr>\n",
       "      <th>2</th>\n",
       "      <td>1</td>\n",
       "      <td>Block</td>\n",
       "      <td>0</td>\n",
       "      <td>0</td>\n",
       "      <td>Overcast</td>\n",
       "      <td>Dry</td>\n",
       "      <td>Daylight</td>\n",
       "    </tr>\n",
       "    <tr>\n",
       "      <th>3</th>\n",
       "      <td>1</td>\n",
       "      <td>Block</td>\n",
       "      <td>0</td>\n",
       "      <td>0</td>\n",
       "      <td>Clear</td>\n",
       "      <td>Dry</td>\n",
       "      <td>Daylight</td>\n",
       "    </tr>\n",
       "    <tr>\n",
       "      <th>4</th>\n",
       "      <td>2</td>\n",
       "      <td>Intersection</td>\n",
       "      <td>0</td>\n",
       "      <td>0</td>\n",
       "      <td>Raining</td>\n",
       "      <td>Wet</td>\n",
       "      <td>Daylight</td>\n",
       "    </tr>\n",
       "  </tbody>\n",
       "</table>\n",
       "</div>"
      ],
      "text/plain": [
       "   SEVERITYCODE      ADDRTYPE  PEDCOUNT  PEDCYLCOUNT   WEATHER ROADCOND  \\\n",
       "0             2  Intersection         0            0  Overcast      Wet   \n",
       "1             1         Block         0            0   Raining      Wet   \n",
       "2             1         Block         0            0  Overcast      Dry   \n",
       "3             1         Block         0            0     Clear      Dry   \n",
       "4             2  Intersection         0            0   Raining      Wet   \n",
       "\n",
       "                 LIGHTCOND  \n",
       "0                 Daylight  \n",
       "1  Dark - Street Lights On  \n",
       "2                 Daylight  \n",
       "3                 Daylight  \n",
       "4                 Daylight  "
      ]
     },
     "execution_count": 27,
     "metadata": {},
     "output_type": "execute_result"
    }
   ],
   "source": [
    "feature=accident_df[[\"ACCIDENT_MONTH\",\"LIGHTCOND_1\",\"ROADCOND_1\",\"WEATHER_1\",\"X\",\"Y\",\"VEHCOUNT\",\"INATTENTIONIND\",\"UNDERINFL\",\"SPEEDING\"]]\n",
    "accident_df.drop(feature,axis=1,inplace=True)\n",
    "accident_df.head()"
   ]
  },
  {
   "cell_type": "code",
   "execution_count": 28,
   "metadata": {},
   "outputs": [
    {
     "data": {
      "text/html": [
       "<div>\n",
       "<style scoped>\n",
       "    .dataframe tbody tr th:only-of-type {\n",
       "        vertical-align: middle;\n",
       "    }\n",
       "\n",
       "    .dataframe tbody tr th {\n",
       "        vertical-align: top;\n",
       "    }\n",
       "\n",
       "    .dataframe thead th {\n",
       "        text-align: right;\n",
       "    }\n",
       "</style>\n",
       "<table border=\"1\" class=\"dataframe\">\n",
       "  <thead>\n",
       "    <tr style=\"text-align: right;\">\n",
       "      <th></th>\n",
       "      <th>SEVERITYCODE</th>\n",
       "      <th>PEDCOUNT</th>\n",
       "      <th>PEDCYLCOUNT</th>\n",
       "      <th>WEATHER</th>\n",
       "      <th>ROADCOND</th>\n",
       "      <th>LIGHTCOND</th>\n",
       "      <th>Alley</th>\n",
       "      <th>Block</th>\n",
       "      <th>Intersection</th>\n",
       "    </tr>\n",
       "  </thead>\n",
       "  <tbody>\n",
       "    <tr>\n",
       "      <th>0</th>\n",
       "      <td>2</td>\n",
       "      <td>0</td>\n",
       "      <td>0</td>\n",
       "      <td>Overcast</td>\n",
       "      <td>Wet</td>\n",
       "      <td>Daylight</td>\n",
       "      <td>0</td>\n",
       "      <td>0</td>\n",
       "      <td>1</td>\n",
       "    </tr>\n",
       "    <tr>\n",
       "      <th>1</th>\n",
       "      <td>1</td>\n",
       "      <td>0</td>\n",
       "      <td>0</td>\n",
       "      <td>Raining</td>\n",
       "      <td>Wet</td>\n",
       "      <td>Dark - Street Lights On</td>\n",
       "      <td>0</td>\n",
       "      <td>1</td>\n",
       "      <td>0</td>\n",
       "    </tr>\n",
       "    <tr>\n",
       "      <th>2</th>\n",
       "      <td>1</td>\n",
       "      <td>0</td>\n",
       "      <td>0</td>\n",
       "      <td>Overcast</td>\n",
       "      <td>Dry</td>\n",
       "      <td>Daylight</td>\n",
       "      <td>0</td>\n",
       "      <td>1</td>\n",
       "      <td>0</td>\n",
       "    </tr>\n",
       "    <tr>\n",
       "      <th>3</th>\n",
       "      <td>1</td>\n",
       "      <td>0</td>\n",
       "      <td>0</td>\n",
       "      <td>Clear</td>\n",
       "      <td>Dry</td>\n",
       "      <td>Daylight</td>\n",
       "      <td>0</td>\n",
       "      <td>1</td>\n",
       "      <td>0</td>\n",
       "    </tr>\n",
       "    <tr>\n",
       "      <th>4</th>\n",
       "      <td>2</td>\n",
       "      <td>0</td>\n",
       "      <td>0</td>\n",
       "      <td>Raining</td>\n",
       "      <td>Wet</td>\n",
       "      <td>Daylight</td>\n",
       "      <td>0</td>\n",
       "      <td>0</td>\n",
       "      <td>1</td>\n",
       "    </tr>\n",
       "  </tbody>\n",
       "</table>\n",
       "</div>"
      ],
      "text/plain": [
       "   SEVERITYCODE  PEDCOUNT  PEDCYLCOUNT   WEATHER ROADCOND  \\\n",
       "0             2         0            0  Overcast      Wet   \n",
       "1             1         0            0   Raining      Wet   \n",
       "2             1         0            0  Overcast      Dry   \n",
       "3             1         0            0     Clear      Dry   \n",
       "4             2         0            0   Raining      Wet   \n",
       "\n",
       "                 LIGHTCOND  Alley  Block  Intersection  \n",
       "0                 Daylight      0      0             1  \n",
       "1  Dark - Street Lights On      0      1             0  \n",
       "2                 Daylight      0      1             0  \n",
       "3                 Daylight      0      1             0  \n",
       "4                 Daylight      0      0             1  "
      ]
     },
     "execution_count": 28,
     "metadata": {},
     "output_type": "execute_result"
    }
   ],
   "source": [
    "#Converting Categorical Variables into Numerical Variables to be used for Model\n",
    "dummy_variable_1=pd.get_dummies(accident_df[\"ADDRTYPE\"])\n",
    "dummy_variable_1.rename(columns={'ADDRTYPE':'ALLEY','ADDRTYPE':'BLOCK','ADDRTYPE':'INTERSECTION'})\n",
    "accident_df=pd.concat([accident_df,dummy_variable_1],axis=1)\n",
    "accident_df.drop(\"ADDRTYPE\",axis=1,inplace=True)\n",
    "accident_df.head()"
   ]
  },
  {
   "cell_type": "code",
   "execution_count": 29,
   "metadata": {},
   "outputs": [
    {
     "data": {
      "text/html": [
       "<div>\n",
       "<style scoped>\n",
       "    .dataframe tbody tr th:only-of-type {\n",
       "        vertical-align: middle;\n",
       "    }\n",
       "\n",
       "    .dataframe tbody tr th {\n",
       "        vertical-align: top;\n",
       "    }\n",
       "\n",
       "    .dataframe thead th {\n",
       "        text-align: right;\n",
       "    }\n",
       "</style>\n",
       "<table border=\"1\" class=\"dataframe\">\n",
       "  <thead>\n",
       "    <tr style=\"text-align: right;\">\n",
       "      <th></th>\n",
       "      <th>SEVERITYCODE</th>\n",
       "      <th>PEDCOUNT</th>\n",
       "      <th>PEDCYLCOUNT</th>\n",
       "      <th>ROADCOND</th>\n",
       "      <th>LIGHTCOND</th>\n",
       "      <th>Alley</th>\n",
       "      <th>Block</th>\n",
       "      <th>Intersection</th>\n",
       "      <th>Blowing Sand/Dirt</th>\n",
       "      <th>Clear</th>\n",
       "      <th>Fog/Smog/Smoke</th>\n",
       "      <th>Other_W</th>\n",
       "      <th>Overcast</th>\n",
       "      <th>Partly Cloudy</th>\n",
       "      <th>Raining</th>\n",
       "      <th>Severe Crosswind</th>\n",
       "      <th>Sleet/Hail/Freezing Rain</th>\n",
       "      <th>Snowing</th>\n",
       "    </tr>\n",
       "  </thead>\n",
       "  <tbody>\n",
       "    <tr>\n",
       "      <th>0</th>\n",
       "      <td>2</td>\n",
       "      <td>0</td>\n",
       "      <td>0</td>\n",
       "      <td>Wet</td>\n",
       "      <td>Daylight</td>\n",
       "      <td>0</td>\n",
       "      <td>0</td>\n",
       "      <td>1</td>\n",
       "      <td>0</td>\n",
       "      <td>0</td>\n",
       "      <td>0</td>\n",
       "      <td>0</td>\n",
       "      <td>1</td>\n",
       "      <td>0</td>\n",
       "      <td>0</td>\n",
       "      <td>0</td>\n",
       "      <td>0</td>\n",
       "      <td>0</td>\n",
       "    </tr>\n",
       "    <tr>\n",
       "      <th>1</th>\n",
       "      <td>1</td>\n",
       "      <td>0</td>\n",
       "      <td>0</td>\n",
       "      <td>Wet</td>\n",
       "      <td>Dark - Street Lights On</td>\n",
       "      <td>0</td>\n",
       "      <td>1</td>\n",
       "      <td>0</td>\n",
       "      <td>0</td>\n",
       "      <td>0</td>\n",
       "      <td>0</td>\n",
       "      <td>0</td>\n",
       "      <td>0</td>\n",
       "      <td>0</td>\n",
       "      <td>1</td>\n",
       "      <td>0</td>\n",
       "      <td>0</td>\n",
       "      <td>0</td>\n",
       "    </tr>\n",
       "    <tr>\n",
       "      <th>2</th>\n",
       "      <td>1</td>\n",
       "      <td>0</td>\n",
       "      <td>0</td>\n",
       "      <td>Dry</td>\n",
       "      <td>Daylight</td>\n",
       "      <td>0</td>\n",
       "      <td>1</td>\n",
       "      <td>0</td>\n",
       "      <td>0</td>\n",
       "      <td>0</td>\n",
       "      <td>0</td>\n",
       "      <td>0</td>\n",
       "      <td>1</td>\n",
       "      <td>0</td>\n",
       "      <td>0</td>\n",
       "      <td>0</td>\n",
       "      <td>0</td>\n",
       "      <td>0</td>\n",
       "    </tr>\n",
       "    <tr>\n",
       "      <th>3</th>\n",
       "      <td>1</td>\n",
       "      <td>0</td>\n",
       "      <td>0</td>\n",
       "      <td>Dry</td>\n",
       "      <td>Daylight</td>\n",
       "      <td>0</td>\n",
       "      <td>1</td>\n",
       "      <td>0</td>\n",
       "      <td>0</td>\n",
       "      <td>1</td>\n",
       "      <td>0</td>\n",
       "      <td>0</td>\n",
       "      <td>0</td>\n",
       "      <td>0</td>\n",
       "      <td>0</td>\n",
       "      <td>0</td>\n",
       "      <td>0</td>\n",
       "      <td>0</td>\n",
       "    </tr>\n",
       "    <tr>\n",
       "      <th>4</th>\n",
       "      <td>2</td>\n",
       "      <td>0</td>\n",
       "      <td>0</td>\n",
       "      <td>Wet</td>\n",
       "      <td>Daylight</td>\n",
       "      <td>0</td>\n",
       "      <td>0</td>\n",
       "      <td>1</td>\n",
       "      <td>0</td>\n",
       "      <td>0</td>\n",
       "      <td>0</td>\n",
       "      <td>0</td>\n",
       "      <td>0</td>\n",
       "      <td>0</td>\n",
       "      <td>1</td>\n",
       "      <td>0</td>\n",
       "      <td>0</td>\n",
       "      <td>0</td>\n",
       "    </tr>\n",
       "  </tbody>\n",
       "</table>\n",
       "</div>"
      ],
      "text/plain": [
       "   SEVERITYCODE  PEDCOUNT  PEDCYLCOUNT ROADCOND                LIGHTCOND  \\\n",
       "0             2         0            0      Wet                 Daylight   \n",
       "1             1         0            0      Wet  Dark - Street Lights On   \n",
       "2             1         0            0      Dry                 Daylight   \n",
       "3             1         0            0      Dry                 Daylight   \n",
       "4             2         0            0      Wet                 Daylight   \n",
       "\n",
       "   Alley  Block  Intersection  Blowing Sand/Dirt  Clear  Fog/Smog/Smoke  \\\n",
       "0      0      0             1                  0      0               0   \n",
       "1      0      1             0                  0      0               0   \n",
       "2      0      1             0                  0      0               0   \n",
       "3      0      1             0                  0      1               0   \n",
       "4      0      0             1                  0      0               0   \n",
       "\n",
       "   Other_W  Overcast  Partly Cloudy  Raining  Severe Crosswind  \\\n",
       "0        0         1              0        0                 0   \n",
       "1        0         0              0        1                 0   \n",
       "2        0         1              0        0                 0   \n",
       "3        0         0              0        0                 0   \n",
       "4        0         0              0        1                 0   \n",
       "\n",
       "   Sleet/Hail/Freezing Rain  Snowing  \n",
       "0                         0        0  \n",
       "1                         0        0  \n",
       "2                         0        0  \n",
       "3                         0        0  \n",
       "4                         0        0  "
      ]
     },
     "execution_count": 29,
     "metadata": {},
     "output_type": "execute_result"
    }
   ],
   "source": [
    "dummy_variable_2=pd.get_dummies(accident_df[\"WEATHER\"])\n",
    "dummy_variable_2.drop(\"Unknown\",axis=1,inplace=True)\n",
    "dummy_variable_2.rename(columns={\"Other\":\"Other_W\"},inplace=True)\n",
    "accident_df=pd.concat([accident_df,dummy_variable_2],axis=1)\n",
    "accident_df.drop(\"WEATHER\",axis=1,inplace=True)\n",
    "accident_df.head()"
   ]
  },
  {
   "cell_type": "code",
   "execution_count": 30,
   "metadata": {},
   "outputs": [
    {
     "data": {
      "text/html": [
       "<div>\n",
       "<style scoped>\n",
       "    .dataframe tbody tr th:only-of-type {\n",
       "        vertical-align: middle;\n",
       "    }\n",
       "\n",
       "    .dataframe tbody tr th {\n",
       "        vertical-align: top;\n",
       "    }\n",
       "\n",
       "    .dataframe thead th {\n",
       "        text-align: right;\n",
       "    }\n",
       "</style>\n",
       "<table border=\"1\" class=\"dataframe\">\n",
       "  <thead>\n",
       "    <tr style=\"text-align: right;\">\n",
       "      <th></th>\n",
       "      <th>SEVERITYCODE</th>\n",
       "      <th>PEDCOUNT</th>\n",
       "      <th>PEDCYLCOUNT</th>\n",
       "      <th>LIGHTCOND</th>\n",
       "      <th>Alley</th>\n",
       "      <th>Block</th>\n",
       "      <th>Intersection</th>\n",
       "      <th>Blowing Sand/Dirt</th>\n",
       "      <th>Clear</th>\n",
       "      <th>Fog/Smog/Smoke</th>\n",
       "      <th>...</th>\n",
       "      <th>Sleet/Hail/Freezing Rain</th>\n",
       "      <th>Snowing</th>\n",
       "      <th>Dry</th>\n",
       "      <th>Ice</th>\n",
       "      <th>Oil</th>\n",
       "      <th>Other_R</th>\n",
       "      <th>Sand/Mud/Dirt</th>\n",
       "      <th>Snow/Slush</th>\n",
       "      <th>Standing Water</th>\n",
       "      <th>Wet</th>\n",
       "    </tr>\n",
       "  </thead>\n",
       "  <tbody>\n",
       "    <tr>\n",
       "      <th>0</th>\n",
       "      <td>2</td>\n",
       "      <td>0</td>\n",
       "      <td>0</td>\n",
       "      <td>Daylight</td>\n",
       "      <td>0</td>\n",
       "      <td>0</td>\n",
       "      <td>1</td>\n",
       "      <td>0</td>\n",
       "      <td>0</td>\n",
       "      <td>0</td>\n",
       "      <td>...</td>\n",
       "      <td>0</td>\n",
       "      <td>0</td>\n",
       "      <td>0</td>\n",
       "      <td>0</td>\n",
       "      <td>0</td>\n",
       "      <td>0</td>\n",
       "      <td>0</td>\n",
       "      <td>0</td>\n",
       "      <td>0</td>\n",
       "      <td>1</td>\n",
       "    </tr>\n",
       "    <tr>\n",
       "      <th>1</th>\n",
       "      <td>1</td>\n",
       "      <td>0</td>\n",
       "      <td>0</td>\n",
       "      <td>Dark - Street Lights On</td>\n",
       "      <td>0</td>\n",
       "      <td>1</td>\n",
       "      <td>0</td>\n",
       "      <td>0</td>\n",
       "      <td>0</td>\n",
       "      <td>0</td>\n",
       "      <td>...</td>\n",
       "      <td>0</td>\n",
       "      <td>0</td>\n",
       "      <td>0</td>\n",
       "      <td>0</td>\n",
       "      <td>0</td>\n",
       "      <td>0</td>\n",
       "      <td>0</td>\n",
       "      <td>0</td>\n",
       "      <td>0</td>\n",
       "      <td>1</td>\n",
       "    </tr>\n",
       "    <tr>\n",
       "      <th>2</th>\n",
       "      <td>1</td>\n",
       "      <td>0</td>\n",
       "      <td>0</td>\n",
       "      <td>Daylight</td>\n",
       "      <td>0</td>\n",
       "      <td>1</td>\n",
       "      <td>0</td>\n",
       "      <td>0</td>\n",
       "      <td>0</td>\n",
       "      <td>0</td>\n",
       "      <td>...</td>\n",
       "      <td>0</td>\n",
       "      <td>0</td>\n",
       "      <td>1</td>\n",
       "      <td>0</td>\n",
       "      <td>0</td>\n",
       "      <td>0</td>\n",
       "      <td>0</td>\n",
       "      <td>0</td>\n",
       "      <td>0</td>\n",
       "      <td>0</td>\n",
       "    </tr>\n",
       "    <tr>\n",
       "      <th>3</th>\n",
       "      <td>1</td>\n",
       "      <td>0</td>\n",
       "      <td>0</td>\n",
       "      <td>Daylight</td>\n",
       "      <td>0</td>\n",
       "      <td>1</td>\n",
       "      <td>0</td>\n",
       "      <td>0</td>\n",
       "      <td>1</td>\n",
       "      <td>0</td>\n",
       "      <td>...</td>\n",
       "      <td>0</td>\n",
       "      <td>0</td>\n",
       "      <td>1</td>\n",
       "      <td>0</td>\n",
       "      <td>0</td>\n",
       "      <td>0</td>\n",
       "      <td>0</td>\n",
       "      <td>0</td>\n",
       "      <td>0</td>\n",
       "      <td>0</td>\n",
       "    </tr>\n",
       "    <tr>\n",
       "      <th>4</th>\n",
       "      <td>2</td>\n",
       "      <td>0</td>\n",
       "      <td>0</td>\n",
       "      <td>Daylight</td>\n",
       "      <td>0</td>\n",
       "      <td>0</td>\n",
       "      <td>1</td>\n",
       "      <td>0</td>\n",
       "      <td>0</td>\n",
       "      <td>0</td>\n",
       "      <td>...</td>\n",
       "      <td>0</td>\n",
       "      <td>0</td>\n",
       "      <td>0</td>\n",
       "      <td>0</td>\n",
       "      <td>0</td>\n",
       "      <td>0</td>\n",
       "      <td>0</td>\n",
       "      <td>0</td>\n",
       "      <td>0</td>\n",
       "      <td>1</td>\n",
       "    </tr>\n",
       "  </tbody>\n",
       "</table>\n",
       "<p>5 rows × 25 columns</p>\n",
       "</div>"
      ],
      "text/plain": [
       "   SEVERITYCODE  PEDCOUNT  PEDCYLCOUNT                LIGHTCOND  Alley  Block  \\\n",
       "0             2         0            0                 Daylight      0      0   \n",
       "1             1         0            0  Dark - Street Lights On      0      1   \n",
       "2             1         0            0                 Daylight      0      1   \n",
       "3             1         0            0                 Daylight      0      1   \n",
       "4             2         0            0                 Daylight      0      0   \n",
       "\n",
       "   Intersection  Blowing Sand/Dirt  Clear  Fog/Smog/Smoke  ...  \\\n",
       "0             1                  0      0               0  ...   \n",
       "1             0                  0      0               0  ...   \n",
       "2             0                  0      0               0  ...   \n",
       "3             0                  0      1               0  ...   \n",
       "4             1                  0      0               0  ...   \n",
       "\n",
       "   Sleet/Hail/Freezing Rain  Snowing  Dry  Ice  Oil  Other_R  Sand/Mud/Dirt  \\\n",
       "0                         0        0    0    0    0        0              0   \n",
       "1                         0        0    0    0    0        0              0   \n",
       "2                         0        0    1    0    0        0              0   \n",
       "3                         0        0    1    0    0        0              0   \n",
       "4                         0        0    0    0    0        0              0   \n",
       "\n",
       "   Snow/Slush  Standing Water  Wet  \n",
       "0           0               0    1  \n",
       "1           0               0    1  \n",
       "2           0               0    0  \n",
       "3           0               0    0  \n",
       "4           0               0    1  \n",
       "\n",
       "[5 rows x 25 columns]"
      ]
     },
     "execution_count": 30,
     "metadata": {},
     "output_type": "execute_result"
    }
   ],
   "source": [
    "dummy_variable_3=pd.get_dummies(accident_df[\"ROADCOND\"])\n",
    "dummy_variable_3.drop(\"Unknown\",axis=1,inplace=True)\n",
    "dummy_variable_3.rename(columns={\"Other\":\"Other_R\"},inplace=True)\n",
    "accident_df=pd.concat([accident_df,dummy_variable_3],axis=1)\n",
    "accident_df.drop(\"ROADCOND\",axis=1,inplace=True)\n",
    "accident_df.head()"
   ]
  },
  {
   "cell_type": "code",
   "execution_count": 31,
   "metadata": {},
   "outputs": [
    {
     "data": {
      "text/html": [
       "<div>\n",
       "<style scoped>\n",
       "    .dataframe tbody tr th:only-of-type {\n",
       "        vertical-align: middle;\n",
       "    }\n",
       "\n",
       "    .dataframe tbody tr th {\n",
       "        vertical-align: top;\n",
       "    }\n",
       "\n",
       "    .dataframe thead th {\n",
       "        text-align: right;\n",
       "    }\n",
       "</style>\n",
       "<table border=\"1\" class=\"dataframe\">\n",
       "  <thead>\n",
       "    <tr style=\"text-align: right;\">\n",
       "      <th></th>\n",
       "      <th>SEVERITYCODE</th>\n",
       "      <th>PEDCOUNT</th>\n",
       "      <th>PEDCYLCOUNT</th>\n",
       "      <th>Alley</th>\n",
       "      <th>Block</th>\n",
       "      <th>Intersection</th>\n",
       "      <th>Blowing Sand/Dirt</th>\n",
       "      <th>Clear</th>\n",
       "      <th>Fog/Smog/Smoke</th>\n",
       "      <th>Other_W</th>\n",
       "      <th>...</th>\n",
       "      <th>Standing Water</th>\n",
       "      <th>Wet</th>\n",
       "      <th>Dark - No Street Lights</th>\n",
       "      <th>Dark - Street Lights Off</th>\n",
       "      <th>Dark - Street Lights On</th>\n",
       "      <th>Dark - Unknown Lighting</th>\n",
       "      <th>Dawn</th>\n",
       "      <th>Daylight</th>\n",
       "      <th>Dusk</th>\n",
       "      <th>Other_L</th>\n",
       "    </tr>\n",
       "  </thead>\n",
       "  <tbody>\n",
       "    <tr>\n",
       "      <th>0</th>\n",
       "      <td>2</td>\n",
       "      <td>0</td>\n",
       "      <td>0</td>\n",
       "      <td>0</td>\n",
       "      <td>0</td>\n",
       "      <td>1</td>\n",
       "      <td>0</td>\n",
       "      <td>0</td>\n",
       "      <td>0</td>\n",
       "      <td>0</td>\n",
       "      <td>...</td>\n",
       "      <td>0</td>\n",
       "      <td>1</td>\n",
       "      <td>0</td>\n",
       "      <td>0</td>\n",
       "      <td>0</td>\n",
       "      <td>0</td>\n",
       "      <td>0</td>\n",
       "      <td>1</td>\n",
       "      <td>0</td>\n",
       "      <td>0</td>\n",
       "    </tr>\n",
       "    <tr>\n",
       "      <th>1</th>\n",
       "      <td>1</td>\n",
       "      <td>0</td>\n",
       "      <td>0</td>\n",
       "      <td>0</td>\n",
       "      <td>1</td>\n",
       "      <td>0</td>\n",
       "      <td>0</td>\n",
       "      <td>0</td>\n",
       "      <td>0</td>\n",
       "      <td>0</td>\n",
       "      <td>...</td>\n",
       "      <td>0</td>\n",
       "      <td>1</td>\n",
       "      <td>0</td>\n",
       "      <td>0</td>\n",
       "      <td>1</td>\n",
       "      <td>0</td>\n",
       "      <td>0</td>\n",
       "      <td>0</td>\n",
       "      <td>0</td>\n",
       "      <td>0</td>\n",
       "    </tr>\n",
       "    <tr>\n",
       "      <th>2</th>\n",
       "      <td>1</td>\n",
       "      <td>0</td>\n",
       "      <td>0</td>\n",
       "      <td>0</td>\n",
       "      <td>1</td>\n",
       "      <td>0</td>\n",
       "      <td>0</td>\n",
       "      <td>0</td>\n",
       "      <td>0</td>\n",
       "      <td>0</td>\n",
       "      <td>...</td>\n",
       "      <td>0</td>\n",
       "      <td>0</td>\n",
       "      <td>0</td>\n",
       "      <td>0</td>\n",
       "      <td>0</td>\n",
       "      <td>0</td>\n",
       "      <td>0</td>\n",
       "      <td>1</td>\n",
       "      <td>0</td>\n",
       "      <td>0</td>\n",
       "    </tr>\n",
       "    <tr>\n",
       "      <th>3</th>\n",
       "      <td>1</td>\n",
       "      <td>0</td>\n",
       "      <td>0</td>\n",
       "      <td>0</td>\n",
       "      <td>1</td>\n",
       "      <td>0</td>\n",
       "      <td>0</td>\n",
       "      <td>1</td>\n",
       "      <td>0</td>\n",
       "      <td>0</td>\n",
       "      <td>...</td>\n",
       "      <td>0</td>\n",
       "      <td>0</td>\n",
       "      <td>0</td>\n",
       "      <td>0</td>\n",
       "      <td>0</td>\n",
       "      <td>0</td>\n",
       "      <td>0</td>\n",
       "      <td>1</td>\n",
       "      <td>0</td>\n",
       "      <td>0</td>\n",
       "    </tr>\n",
       "    <tr>\n",
       "      <th>4</th>\n",
       "      <td>2</td>\n",
       "      <td>0</td>\n",
       "      <td>0</td>\n",
       "      <td>0</td>\n",
       "      <td>0</td>\n",
       "      <td>1</td>\n",
       "      <td>0</td>\n",
       "      <td>0</td>\n",
       "      <td>0</td>\n",
       "      <td>0</td>\n",
       "      <td>...</td>\n",
       "      <td>0</td>\n",
       "      <td>1</td>\n",
       "      <td>0</td>\n",
       "      <td>0</td>\n",
       "      <td>0</td>\n",
       "      <td>0</td>\n",
       "      <td>0</td>\n",
       "      <td>1</td>\n",
       "      <td>0</td>\n",
       "      <td>0</td>\n",
       "    </tr>\n",
       "  </tbody>\n",
       "</table>\n",
       "<p>5 rows × 32 columns</p>\n",
       "</div>"
      ],
      "text/plain": [
       "   SEVERITYCODE  PEDCOUNT  PEDCYLCOUNT  Alley  Block  Intersection  \\\n",
       "0             2         0            0      0      0             1   \n",
       "1             1         0            0      0      1             0   \n",
       "2             1         0            0      0      1             0   \n",
       "3             1         0            0      0      1             0   \n",
       "4             2         0            0      0      0             1   \n",
       "\n",
       "   Blowing Sand/Dirt  Clear  Fog/Smog/Smoke  Other_W  ...  Standing Water  \\\n",
       "0                  0      0               0        0  ...               0   \n",
       "1                  0      0               0        0  ...               0   \n",
       "2                  0      0               0        0  ...               0   \n",
       "3                  0      1               0        0  ...               0   \n",
       "4                  0      0               0        0  ...               0   \n",
       "\n",
       "   Wet  Dark - No Street Lights  Dark - Street Lights Off  \\\n",
       "0    1                        0                         0   \n",
       "1    1                        0                         0   \n",
       "2    0                        0                         0   \n",
       "3    0                        0                         0   \n",
       "4    1                        0                         0   \n",
       "\n",
       "   Dark - Street Lights On  Dark - Unknown Lighting  Dawn  Daylight  Dusk  \\\n",
       "0                        0                        0     0         1     0   \n",
       "1                        1                        0     0         0     0   \n",
       "2                        0                        0     0         1     0   \n",
       "3                        0                        0     0         1     0   \n",
       "4                        0                        0     0         1     0   \n",
       "\n",
       "   Other_L  \n",
       "0        0  \n",
       "1        0  \n",
       "2        0  \n",
       "3        0  \n",
       "4        0  \n",
       "\n",
       "[5 rows x 32 columns]"
      ]
     },
     "execution_count": 31,
     "metadata": {},
     "output_type": "execute_result"
    }
   ],
   "source": [
    "dummy_variable_4=pd.get_dummies(accident_df[\"LIGHTCOND\"])\n",
    "dummy_variable_4.drop(\"Unknown\",axis=1,inplace=True)\n",
    "dummy_variable_4.rename(columns={\"Other\":\"Other_L\"},inplace=True)\n",
    "accident_df=pd.concat([accident_df,dummy_variable_4],axis=1)\n",
    "accident_df.drop(\"LIGHTCOND\",axis=1,inplace=True)\n",
    "accident_df.head()"
   ]
  },
  {
   "cell_type": "code",
   "execution_count": 32,
   "metadata": {},
   "outputs": [
    {
     "data": {
      "text/plain": [
       "(194673, 32)"
      ]
     },
     "execution_count": 32,
     "metadata": {},
     "output_type": "execute_result"
    }
   ],
   "source": [
    "accident_df.shape"
   ]
  },
  {
   "cell_type": "markdown",
   "metadata": {},
   "source": [
    "#### 4.4.2) Data Resampling"
   ]
  },
  {
   "cell_type": "code",
   "execution_count": 33,
   "metadata": {},
   "outputs": [
    {
     "data": {
      "text/plain": [
       "1    136485\n",
       "2     58188\n",
       "Name: SEVERITYCODE, dtype: int64"
      ]
     },
     "execution_count": 33,
     "metadata": {},
     "output_type": "execute_result"
    }
   ],
   "source": [
    "accident_df[\"SEVERITYCODE\"].value_counts()"
   ]
  },
  {
   "cell_type": "code",
   "execution_count": 34,
   "metadata": {},
   "outputs": [
    {
     "data": {
      "text/plain": [
       "2    58188\n",
       "1    58188\n",
       "Name: SEVERITYCODE, dtype: int64"
      ]
     },
     "execution_count": 34,
     "metadata": {},
     "output_type": "execute_result"
    }
   ],
   "source": [
    "#resampling data to remove thew classification bias from the model \n",
    "from sklearn.utils import resample\n",
    "#splitting data into different datasets as per the severity code\n",
    "accident_df_severitycode1=accident_df[accident_df.SEVERITYCODE==1]\n",
    "accident_df_severitycode2=accident_df[accident_df.SEVERITYCODE==2]\n",
    "#downsampling accidents with severity code 1\n",
    "accident_df_severitycode1_resampled=resample(accident_df_severitycode1,replace=False,n_samples=58188,random_state=123)\n",
    "accident_df_resampled=pd.concat([accident_df_severitycode1_resampled,accident_df_severitycode2])\n",
    "accident_df_resampled[\"SEVERITYCODE\"].value_counts()"
   ]
  },
  {
   "cell_type": "code",
   "execution_count": 35,
   "metadata": {},
   "outputs": [
    {
     "name": "stdout",
     "output_type": "stream",
     "text": [
      "SEVERITYCODE                0\n",
      "PEDCOUNT                    0\n",
      "PEDCYLCOUNT                 0\n",
      "Alley                       0\n",
      "Block                       0\n",
      "Intersection                0\n",
      "Blowing Sand/Dirt           0\n",
      "Clear                       0\n",
      "Fog/Smog/Smoke              0\n",
      "Other_W                     0\n",
      "Overcast                    0\n",
      "Partly Cloudy               0\n",
      "Raining                     0\n",
      "Severe Crosswind            0\n",
      "Sleet/Hail/Freezing Rain    0\n",
      "Snowing                     0\n",
      "Dry                         0\n",
      "Ice                         0\n",
      "Oil                         0\n",
      "Other_R                     0\n",
      "Sand/Mud/Dirt               0\n",
      "Snow/Slush                  0\n",
      "Standing Water              0\n",
      "Wet                         0\n",
      "Dark - No Street Lights     0\n",
      "Dark - Street Lights Off    0\n",
      "Dark - Street Lights On     0\n",
      "Dark - Unknown Lighting     0\n",
      "Dawn                        0\n",
      "Daylight                    0\n",
      "Dusk                        0\n",
      "Other_L                     0\n",
      "dtype: int64\n"
     ]
    }
   ],
   "source": [
    "print(accident_df_resampled.isnull().sum()) #Checking for null values one last time before scalingthe data "
   ]
  },
  {
   "cell_type": "markdown",
   "metadata": {},
   "source": [
    "#### 4.4.3) Data Normalization "
   ]
  },
  {
   "cell_type": "code",
   "execution_count": 36,
   "metadata": {},
   "outputs": [],
   "source": [
    "from sklearn import preprocessing\n",
    "feature=accident_df[[\"PEDCOUNT\",\"PEDCYLCOUNT\",\"Alley\",\"Block\",\"Intersection\",\"Blowing Sand/Dirt\",\"Clear\",\"Fog/Smog/Smoke\",\"Other_W\",\"Overcast\",\"Partly Cloudy\",\"Raining\",\"Severe Crosswind\",\"Sleet/Hail/Freezing Rain\",\"Snowing\",\"Dry\",\"Ice\",\"Oil\",\"Other_R\",\"Sand/Mud/Dirt\",\"Snow/Slush\",\"Standing Water\",\"Wet\",\"Dark - No Street Lights\",\"Dark - Street Lights Off\",\"Dark - Street Lights On\",\"Dark - Unknown Lighting\",\"Dawn\",\"Daylight\",\"Dusk\",\"Other_L\"]]\n",
    "x=preprocessing.StandardScaler().fit(feature).transform(feature)\n",
    "y=accident_df[\"SEVERITYCODE\"]\n"
   ]
  },
  {
   "cell_type": "code",
   "execution_count": 37,
   "metadata": {},
   "outputs": [],
   "source": [
    "feature_1=accident_df_resampled[[\"PEDCOUNT\",\"PEDCYLCOUNT\",\"Alley\",\"Block\",\"Intersection\",\"Blowing Sand/Dirt\",\"Clear\",\"Fog/Smog/Smoke\",\"Other_W\",\"Overcast\",\"Partly Cloudy\",\"Raining\",\"Severe Crosswind\",\"Sleet/Hail/Freezing Rain\",\"Snowing\",\"Dry\",\"Ice\",\"Oil\",\"Other_R\",\"Sand/Mud/Dirt\",\"Snow/Slush\",\"Standing Water\",\"Wet\",\"Dark - No Street Lights\",\"Dark - Street Lights Off\",\"Dark - Street Lights On\",\"Dark - Unknown Lighting\",\"Dawn\",\"Daylight\",\"Dusk\",\"Other_L\"]]\n",
    "x_1=preprocessing.StandardScaler().fit(feature_1).transform(feature_1)\n",
    "y_1=accident_df_resampled[\"SEVERITYCODE\"]"
   ]
  },
  {
   "cell_type": "markdown",
   "metadata": {},
   "source": [
    "#### 4.4.4) Splitting Dataset into Training and Testing Subsets"
   ]
  },
  {
   "cell_type": "code",
   "execution_count": 38,
   "metadata": {},
   "outputs": [
    {
     "name": "stdout",
     "output_type": "stream",
     "text": [
      "The training set is: (155738, 31) (155738,)\n",
      "The test set is: (38935, 31) (38935,)\n"
     ]
    }
   ],
   "source": [
    "from sklearn.model_selection import train_test_split\n",
    "x_train,x_test,y_train,y_test=train_test_split(x,y,test_size=0.2,random_state=4)\n",
    "print(\"The training set is:\",x_train.shape,y_train.shape)\n",
    "print(\"The test set is:\",x_test.shape,y_test.shape)"
   ]
  },
  {
   "cell_type": "code",
   "execution_count": 39,
   "metadata": {},
   "outputs": [
    {
     "name": "stdout",
     "output_type": "stream",
     "text": [
      "The training set is: (93100, 31) (93100,)\n",
      "The test set is: (23276, 31) (23276,)\n"
     ]
    }
   ],
   "source": [
    "xtrain,xtest,ytrain,ytest=train_test_split(x_1,y_1,test_size=0.2,random_state=4)\n",
    "print(\"The training set is:\",xtrain.shape,ytrain.shape)\n",
    "print(\"The test set is:\",xtest.shape,ytest.shape)"
   ]
  },
  {
   "cell_type": "markdown",
   "metadata": {},
   "source": [
    "Now that we have a clean, balanced and standardised dataset for the city of Seattle. We have converted the categorical variables into numerical variables through the use of standard preprocessing techniques. We are ready to build and test models for predicting the Severity Code from our choosen feature set. "
   ]
  },
  {
   "cell_type": "markdown",
   "metadata": {},
   "source": [
    "#### 4.4.5) Classification Models"
   ]
  },
  {
   "cell_type": "markdown",
   "metadata": {},
   "source": [
    "Since the dependent variable is a binary we are going to apply classifcation machine learning techniques to build the model. The followignare the techniques we are going to use: -\n",
    "1) K-Nearest Neighbors\n",
    "\n",
    "2) Logistic Regression \n",
    "\n",
    "3) Support Vector Machine(SVM) \n",
    "\n",
    "4) Decision Tree Classification "
   ]
  },
  {
   "cell_type": "markdown",
   "metadata": {},
   "source": [
    "#### 4.4.5.1) Logistic Regression"
   ]
  },
  {
   "cell_type": "markdown",
   "metadata": {},
   "source": [
    "#### Model without resampling"
   ]
  },
  {
   "cell_type": "code",
   "execution_count": 68,
   "metadata": {},
   "outputs": [],
   "source": [
    "from sklearn.linear_model import LogisticRegression\n",
    "from sklearn import metrics"
   ]
  },
  {
   "cell_type": "code",
   "execution_count": 41,
   "metadata": {},
   "outputs": [
    {
     "data": {
      "text/plain": [
       "LogisticRegression(C=0.01, solver='liblinear')"
      ]
     },
     "execution_count": 41,
     "metadata": {},
     "output_type": "execute_result"
    }
   ],
   "source": [
    "LR=LogisticRegression(C=0.01,solver=\"liblinear\").fit(x_train,y_train)\n",
    "LR"
   ]
  },
  {
   "cell_type": "code",
   "execution_count": 42,
   "metadata": {},
   "outputs": [
    {
     "name": "stdout",
     "output_type": "stream",
     "text": [
      "The accuracy of Logistic Regression is: 0.7532040580454604\n"
     ]
    }
   ],
   "source": [
    "y_hat_LR=LR.predict(x_test)\n",
    "y_hat_prob=LR.predict_proba(x_test)\n",
    "print(\"The accuracy of Logistic Regression is:\", metrics.accuracy_score(y_test,y_hat_LR))"
   ]
  },
  {
   "cell_type": "markdown",
   "metadata": {},
   "source": [
    "#### 4.4.5.2) Model with resampling"
   ]
  },
  {
   "cell_type": "code",
   "execution_count": 43,
   "metadata": {},
   "outputs": [
    {
     "data": {
      "text/plain": [
       "LogisticRegression(C=0.01, solver='liblinear')"
      ]
     },
     "execution_count": 43,
     "metadata": {},
     "output_type": "execute_result"
    }
   ],
   "source": [
    "LR_resampled=LogisticRegression(C=0.01,solver=\"liblinear\").fit(xtrain,ytrain)\n",
    "LR"
   ]
  },
  {
   "cell_type": "code",
   "execution_count": 44,
   "metadata": {},
   "outputs": [
    {
     "name": "stdout",
     "output_type": "stream",
     "text": [
      "The accuracy of Logistic Regression is: 0.5897490977831242\n"
     ]
    }
   ],
   "source": [
    "y_hat1_LR=LR.predict(xtest)\n",
    "y_hat1_prob=LR.predict_proba(xtest)\n",
    "print(\"The accuracy of Logistic Regression is:\", metrics.accuracy_score(ytest,y_hat1_LR))"
   ]
  },
  {
   "cell_type": "markdown",
   "metadata": {},
   "source": [
    "#### 4.4.5.3) Support Vector Machine(SVM)"
   ]
  },
  {
   "cell_type": "markdown",
   "metadata": {},
   "source": [
    "#### Model without resampling"
   ]
  },
  {
   "cell_type": "code",
   "execution_count": 45,
   "metadata": {},
   "outputs": [],
   "source": [
    "from sklearn import svm\n"
   ]
  },
  {
   "cell_type": "code",
   "execution_count": 46,
   "metadata": {},
   "outputs": [
    {
     "data": {
      "text/plain": [
       "SVC()"
      ]
     },
     "execution_count": 46,
     "metadata": {},
     "output_type": "execute_result"
    }
   ],
   "source": [
    "severity=svm.SVC(kernel=\"rbf\")\n",
    "severity.fit(x_train,y_train)"
   ]
  },
  {
   "cell_type": "code",
   "execution_count": 47,
   "metadata": {},
   "outputs": [
    {
     "data": {
      "text/plain": [
       "array([1, 1, 1, 1, 1], dtype=int64)"
      ]
     },
     "execution_count": 47,
     "metadata": {},
     "output_type": "execute_result"
    }
   ],
   "source": [
    "y_hat_svm=severity.predict(x_test)\n",
    "y_hat_svm[0:5]"
   ]
  },
  {
   "cell_type": "code",
   "execution_count": 48,
   "metadata": {},
   "outputs": [
    {
     "name": "stdout",
     "output_type": "stream",
     "text": [
      "The accuracy of SVM is: 0.7528701682290998\n"
     ]
    }
   ],
   "source": [
    "print(\"The accuracy of SVM is:\", metrics.accuracy_score(y_test,y_hat_svm))"
   ]
  },
  {
   "cell_type": "markdown",
   "metadata": {},
   "source": [
    "#### Model with resampling"
   ]
  },
  {
   "cell_type": "code",
   "execution_count": 49,
   "metadata": {},
   "outputs": [
    {
     "data": {
      "text/plain": [
       "SVC()"
      ]
     },
     "execution_count": 49,
     "metadata": {},
     "output_type": "execute_result"
    }
   ],
   "source": [
    "severity_1=svm.SVC(kernel=\"rbf\")\n",
    "severity_1.fit(xtrain,ytrain)"
   ]
  },
  {
   "cell_type": "code",
   "execution_count": 50,
   "metadata": {},
   "outputs": [
    {
     "data": {
      "text/plain": [
       "array([2, 1, 1, 1, 1], dtype=int64)"
      ]
     },
     "execution_count": 50,
     "metadata": {},
     "output_type": "execute_result"
    }
   ],
   "source": [
    "y_hat1_svm=severity_1.predict(xtest)\n",
    "y_hat1_svm[0:5]"
   ]
  },
  {
   "cell_type": "code",
   "execution_count": 51,
   "metadata": {},
   "outputs": [
    {
     "name": "stdout",
     "output_type": "stream",
     "text": [
      "The accuracy of SVM is: 0.6397147276164289\n"
     ]
    }
   ],
   "source": [
    "print(\"The accuracy of SVM is:\", metrics.accuracy_score(ytest,y_hat1_svm))"
   ]
  },
  {
   "cell_type": "markdown",
   "metadata": {},
   "source": [
    "#### 4.4.5.4) Decision Tree"
   ]
  },
  {
   "cell_type": "markdown",
   "metadata": {},
   "source": [
    "#### Model without resampling"
   ]
  },
  {
   "cell_type": "code",
   "execution_count": 52,
   "metadata": {},
   "outputs": [],
   "source": [
    "from sklearn.tree import DecisionTreeClassifier"
   ]
  },
  {
   "cell_type": "code",
   "execution_count": 53,
   "metadata": {},
   "outputs": [
    {
     "data": {
      "text/plain": [
       "DecisionTreeClassifier(criterion='entropy', max_depth=4)"
      ]
     },
     "execution_count": 53,
     "metadata": {},
     "output_type": "execute_result"
    }
   ],
   "source": [
    "severitytree=DecisionTreeClassifier(criterion='entropy', max_depth=4)\n",
    "severitytree.fit(x_train,y_train)"
   ]
  },
  {
   "cell_type": "code",
   "execution_count": 54,
   "metadata": {},
   "outputs": [
    {
     "name": "stdout",
     "output_type": "stream",
     "text": [
      "The accuracy of decision tree is: 0.7532554257095159\n"
     ]
    }
   ],
   "source": [
    "predtree=severitytree.predict(x_test)\n",
    "print(\"The accuracy of decision tree is:\", metrics.accuracy_score(y_test,predtree))"
   ]
  },
  {
   "cell_type": "markdown",
   "metadata": {},
   "source": [
    "#### Model with resampling"
   ]
  },
  {
   "cell_type": "code",
   "execution_count": 55,
   "metadata": {},
   "outputs": [
    {
     "data": {
      "text/plain": [
       "DecisionTreeClassifier(criterion='entropy', max_depth=4)"
      ]
     },
     "execution_count": 55,
     "metadata": {},
     "output_type": "execute_result"
    }
   ],
   "source": [
    "severitytree1=DecisionTreeClassifier(criterion='entropy', max_depth=4)\n",
    "severitytree1.fit(xtrain,ytrain)"
   ]
  },
  {
   "cell_type": "code",
   "execution_count": 56,
   "metadata": {},
   "outputs": [
    {
     "name": "stdout",
     "output_type": "stream",
     "text": [
      "The accuracy of decision tree is: 0.6361488228217906\n"
     ]
    }
   ],
   "source": [
    "predtree1=severitytree1.predict(xtest)\n",
    "print(\"The accuracy of decision tree is:\", metrics.accuracy_score(ytest,predtree1))"
   ]
  },
  {
   "cell_type": "markdown",
   "metadata": {},
   "source": [
    "#### 4.4.5.5) K-Nearest Neighbors"
   ]
  },
  {
   "cell_type": "markdown",
   "metadata": {},
   "source": [
    "#### Model without resampling"
   ]
  },
  {
   "cell_type": "code",
   "execution_count": 57,
   "metadata": {},
   "outputs": [
    {
     "data": {
      "text/plain": [
       "array([1, 1, 1, 2, 1], dtype=int64)"
      ]
     },
     "execution_count": 57,
     "metadata": {},
     "output_type": "execute_result"
    }
   ],
   "source": [
    "from sklearn.neighbors import KNeighborsClassifier\n",
    "neigh=KNeighborsClassifier(n_neighbors=4).fit(x_train,y_train)\n",
    "y_hat=neigh.predict(x_test)\n",
    "y_hat[0:5]"
   ]
  },
  {
   "cell_type": "code",
   "execution_count": 58,
   "metadata": {},
   "outputs": [
    {
     "name": "stdout",
     "output_type": "stream",
     "text": [
      "Train set accuracy: 0.742779539996661\n",
      "Test set accuracy: 0.745678695261333\n"
     ]
    }
   ],
   "source": [
    "from sklearn import metrics\n",
    "print(\"Train set accuracy:\", metrics.accuracy_score(y_train,neigh.predict(x_train)))\n",
    "print(\"Test set accuracy:\", metrics.accuracy_score(y_test,y_hat))"
   ]
  },
  {
   "cell_type": "code",
   "execution_count": 59,
   "metadata": {},
   "outputs": [
    {
     "data": {
      "text/plain": [
       "array([0.7456787, 0.7456787, 0.7456787, 0.7456787, 0.7456787, 0.7456787,\n",
       "       0.7456787, 0.7456787, 0.7456787, 0.7456787, 0.7456787, 0.7456787,\n",
       "       0.7456787, 0.7456787, 0.7456787, 0.7456787, 0.7456787, 0.7456787,\n",
       "       0.7456787])"
      ]
     },
     "execution_count": 59,
     "metadata": {},
     "output_type": "execute_result"
    }
   ],
   "source": [
    "ks=20\n",
    "mean_acc=np.zeros((ks-1))\n",
    "std_acc=np.zeros((ks-1))\n",
    "confusionmx=[];\n",
    "for n in range(1,ks):\n",
    "    neig=KNeighborsClassifier(n_neighbors=n).fit(x_train,y_train)\n",
    "    y_hat=neigh.predict(x_test)\n",
    "    mean_acc[n-1]=metrics.accuracy_score(y_test,y_hat)\n",
    "    std_acc[n-1]=np.std(y_hat==y_test)/np.sqrt(y_hat.shape[0])\n",
    "mean_acc\n",
    "\n"
   ]
  },
  {
   "cell_type": "code",
   "execution_count": 60,
   "metadata": {},
   "outputs": [
    {
     "data": {
      "image/png": "[encoded data removed]",
      "text/plain": [
       "<Figure size 432x288 with 1 Axes>"
      ]
     },
     "metadata": {
      "needs_background": "light"
     },
     "output_type": "display_data"
    }
   ],
   "source": [
    "plt.plot(range(1,ks),mean_acc,'g')\n",
    "plt.fill_between(range(1,ks),mean_acc - 1*std_acc,mean_acc + 1*std_acc,alpha=0.10)\n",
    "plt.legend(('Accuracy','+/- 3xstd'))\n",
    "plt.ylabel(\"Accuracy\")\n",
    "plt.xlabel(\"Number of Neighbors\")\n",
    "plt.tight_layout()\n",
    "plt.show()\n"
   ]
  },
  {
   "cell_type": "markdown",
   "metadata": {},
   "source": [
    "#### Model with resampling"
   ]
  },
  {
   "cell_type": "code",
   "execution_count": 62,
   "metadata": {},
   "outputs": [
    {
     "name": "stdout",
     "output_type": "stream",
     "text": [
      "Train set accuracy: 0.584156820622986\n",
      "Test set accuracy: 0.5849802371541502\n"
     ]
    }
   ],
   "source": [
    "neigh_1=KNeighborsClassifier(n_neighbors=4).fit(xtrain,ytrain)\n",
    "y_hat1=neigh.predict(xtest)\n",
    "print(\"Train set accuracy:\", metrics.accuracy_score(ytrain,neigh.predict(xtrain)))\n",
    "print(\"Test set accuracy:\", metrics.accuracy_score(ytest,y_hat1))"
   ]
  },
  {
   "cell_type": "code",
   "execution_count": 63,
   "metadata": {},
   "outputs": [
    {
     "data": {
      "image/png": "[encoded data removed]",
      "text/plain": [
       "<Figure size 432x288 with 1 Axes>"
      ]
     },
     "metadata": {
      "needs_background": "light"
     },
     "output_type": "display_data"
    }
   ],
   "source": [
    "ks=20\n",
    "mean_acc=np.zeros((ks-1))\n",
    "std_acc=np.zeros((ks-1))\n",
    "confusionmx=[];\n",
    "for n in range(1,ks):\n",
    "    neig=KNeighborsClassifier(n_neighbors=n).fit(xtrain,ytrain)\n",
    "    y_hat1=neigh.predict(xtest)\n",
    "    mean_acc[n-1]=metrics.accuracy_score(ytest,y_hat1)\n",
    "    std_acc[n-1]=np.std(y_hat1==ytest)/np.sqrt(y_hat1.shape[0])\n",
    "mean_acc\n",
    "plt.plot(range(1,ks),mean_acc,'g')\n",
    "plt.fill_between(range(1,ks),mean_acc - 1*std_acc,mean_acc + 1*std_acc,alpha=0.10)\n",
    "plt.legend(('Accuracy','+/- 3xstd'))\n",
    "plt.ylabel(\"Accuracy\")\n",
    "plt.xlabel(\"Number of Neighbors\")\n",
    "plt.tight_layout()\n",
    "plt.show()"
   ]
  },
  {
   "cell_type": "markdown",
   "metadata": {},
   "source": [
    "### 4.5) Model Evaluation"
   ]
  },
  {
   "cell_type": "markdown",
   "metadata": {},
   "source": [
    "#### Model without resampling"
   ]
  },
  {
   "cell_type": "code",
   "execution_count": 74,
   "metadata": {},
   "outputs": [],
   "source": [
    "from sklearn.metrics import f1_score\n",
    "from sklearn.metrics import log_loss\n",
    "from sklearn.metrics import jaccard_score"
   ]
  },
  {
   "cell_type": "markdown",
   "metadata": {},
   "source": [
    "##### Logistic Regression"
   ]
  },
  {
   "cell_type": "code",
   "execution_count": 75,
   "metadata": {},
   "outputs": [
    {
     "name": "stdout",
     "output_type": "stream",
     "text": [
      "The Jaccard Score is: 0.7385\n",
      "The F-1 Score is: 0.6909\n",
      "The Log loss is: 0.5335\n"
     ]
    }
   ],
   "source": [
    "print(\"The Jaccard Score is: %.4f\" %jaccard_score(y_test,y_hat_LR))\n",
    "print(\"The F-1 Score is: %.4f\" %f1_score(y_test,y_hat_LR,average='weighted'))\n",
    "print(\"The Log loss is: %.4f\"%log_loss(y_test,y_hat_prob))"
   ]
  },
  {
   "cell_type": "markdown",
   "metadata": {},
   "source": [
    "##### Support Vector Machine(SVM)"
   ]
  },
  {
   "cell_type": "code",
   "execution_count": 76,
   "metadata": {},
   "outputs": [
    {
     "name": "stdout",
     "output_type": "stream",
     "text": [
      "The Jaccard Score is: 0.7382\n",
      "The F-1 Score is: 0.6904\n"
     ]
    }
   ],
   "source": [
    "print(\"The Jaccard Score is: %.4f\" %jaccard_score(y_test,y_hat_svm))\n",
    "print(\"The F-1 Score is: %.4f\" %f1_score(y_test,y_hat_svm,average='weighted'))"
   ]
  },
  {
   "cell_type": "markdown",
   "metadata": {},
   "source": [
    "##### Decision Tree"
   ]
  },
  {
   "cell_type": "code",
   "execution_count": 77,
   "metadata": {},
   "outputs": [
    {
     "name": "stdout",
     "output_type": "stream",
     "text": [
      "The Jaccard Score is: 0.7386\n",
      "The F-1 Score is: 0.6910\n"
     ]
    }
   ],
   "source": [
    "print(\"The Jaccard Score is: %.4f\" %jaccard_score(y_test,predtree))\n",
    "print(\"The F-1 Score is: %.4f\" %f1_score(y_test,predtree,average='weighted'))"
   ]
  },
  {
   "cell_type": "markdown",
   "metadata": {},
   "source": [
    "##### K-Nearest Neighbors"
   ]
  },
  {
   "cell_type": "code",
   "execution_count": 78,
   "metadata": {},
   "outputs": [
    {
     "name": "stdout",
     "output_type": "stream",
     "text": [
      "The Jaccard Score is: 0.7290\n",
      "The F-1 Score is: 0.6905\n"
     ]
    }
   ],
   "source": [
    "print(\"The Jaccard Score is: %.4f\" %jaccard_score(y_test,y_hat))\n",
    "print(\"The F-1 Score is: %.4f\" %f1_score(y_test,y_hat,average='weighted'))"
   ]
  },
  {
   "cell_type": "markdown",
   "metadata": {},
   "source": [
    "#### Model with resampling "
   ]
  },
  {
   "cell_type": "markdown",
   "metadata": {},
   "source": [
    "##### Logistic Regression"
   ]
  },
  {
   "cell_type": "code",
   "execution_count": 81,
   "metadata": {},
   "outputs": [
    {
     "name": "stdout",
     "output_type": "stream",
     "text": [
      "The Jaccard Score is: 0.5466\n",
      "The F-1 Score is: 0.5115\n",
      "The Log loss is: 0.7057\n"
     ]
    }
   ],
   "source": [
    "print(\"The Jaccard Score is: %.4f\" %jaccard_score(ytest,y_hat1_LR))\n",
    "print(\"The F-1 Score is: %.4f\" %f1_score(ytest,y_hat1_LR,average='weighted'))\n",
    "print(\"The Log loss is: %.4f\"%log_loss(ytest,y_hat1_prob))"
   ]
  },
  {
   "cell_type": "markdown",
   "metadata": {},
   "source": [
    "##### Support Vector Machine(SVM)"
   ]
  },
  {
   "cell_type": "code",
   "execution_count": 82,
   "metadata": {},
   "outputs": [
    {
     "name": "stdout",
     "output_type": "stream",
     "text": [
      "The Jaccard Score is: 0.5067\n",
      "The F-1 Score is: 0.6360\n"
     ]
    }
   ],
   "source": [
    "print(\"The Jaccard Score is: %.4f\" %jaccard_score(ytest,y_hat1_svm))\n",
    "print(\"The F-1 Score is: %.4f\" %f1_score(ytest,y_hat1_svm,average='weighted'))"
   ]
  },
  {
   "cell_type": "markdown",
   "metadata": {},
   "source": [
    "##### Decision Tree"
   ]
  },
  {
   "cell_type": "code",
   "execution_count": 83,
   "metadata": {},
   "outputs": [
    {
     "name": "stdout",
     "output_type": "stream",
     "text": [
      "The Jaccard Score is: 0.4983\n",
      "The F-1 Score is: 0.6333\n"
     ]
    }
   ],
   "source": [
    "print(\"The Jaccard Score is: %.4f\" %jaccard_score(ytest,predtree1))\n",
    "print(\"The F-1 Score is: %.4f\" %f1_score(ytest,predtree1,average='weighted'))"
   ]
  },
  {
   "cell_type": "markdown",
   "metadata": {},
   "source": [
    "##### K-Nearest Neighbors"
   ]
  },
  {
   "cell_type": "code",
   "execution_count": 84,
   "metadata": {},
   "outputs": [
    {
     "name": "stdout",
     "output_type": "stream",
     "text": [
      "The Jaccard Score is: 0.5276\n",
      "The F-1 Score is: 0.5297\n"
     ]
    }
   ],
   "source": [
    "print(\"The Jaccard Score is: %.4f\" %jaccard_score(ytest,y_hat1))\n",
    "print(\"The F-1 Score is: %.4f\" %f1_score(ytest,y_hat1,average='weighted'))"
   ]
  },
  {
   "cell_type": "markdown",
   "metadata": {},
   "source": [
    "|                    |      Without Resampling      |        With  Resampling      |\n",
    "|------------------- |------------------------------|------------------------------|\n",
    "| Algorithm          | Jaccard | F1-score | LogLoss | Jaccard | F1-score | LogLoss |\n",
    "| ------------------ | ------- | -------- | ------- | ------- | -------- | ------- |\n",
    "| LogisticRegression | 0.7385  | 0.6909   | 0.5335  | 0.5466  | 0.5115   | 0.7057  |\n",
    "| SVM                | 0.7382  | 0.6904   | NA      | 0.5067  | 0.6360   | NA      |\n",
    "| Decision Tree      | 0.7386  | 0.6910   | NA      | 0.4983  | 0.6333   | NA      |\n",
    "| KNN                | 0.7290  | 0.6905   | ?       | 0.5276  | 0.5297   | NA      |"
   ]
  },
  {
   "cell_type": "markdown",
   "metadata": {},
   "source": [
    "### 5) Result"
   ]
  },
  {
   "cell_type": "markdown",
   "metadata": {},
   "source": [
    "There were two models constructed respectively: - \n",
    "1) In which the data was not resampled \n",
    "\n",
    "2) In which data was resampled \n",
    "\n",
    "Both the models were then trained on the same clasification algorithms to make a fair comparision between the two. It was found that the models which were trained on the dataset that was not resampled had a higher accuracy for the predictions and lower uncertainity as compared to it's counterpart. Though the data without resampling might have a little bias due to a very high value of accidents having SEVERITYCODE 1 in respect to accidents having SEVERITYCODE 2. But due to resampling the accuracy and uncertainity increases and this means that some important information or trend goes missing. Thus, impacting the accuracy and predictive ability of the model.\n",
    "\n",
    "For Logistic Regression Model the value of log loss for data without resampling is almost 32.27% higher showing a very high level if uncertainity. Similar trend is visible for jaccard score as well as F1 socres for all the other models. This model also gives a large value of false negatives for accidents of severity class 2 and fails to make accurate prediction for them.\n"
   ]
  },
  {
   "cell_type": "markdown",
   "metadata": {},
   "source": [
    "### 6) Conclusion "
   ]
  },
  {
   "cell_type": "markdown",
   "metadata": {},
   "source": [
    "The aim of this project is to predict the severity of accidents and to reveal the factors affecting the severity. When examining the feature importance after the training step, it seems possible to say that there are several remarkable features. It seems quite effective that a pedestrian or cyclist was involved in the accident.\n",
    "\n",
    "Going back to the exploratory data analysis step, we were able to get many important following insights such as majority of accidents that take place in wet conditions of road are directly related with the rainy and overcast weather while majority of the accidents that take place in dry conditions involve majority of pedestrians and cyclists. The accidents that result in majority of injuries take place at dawn,daytime and dusk.This proves the logical conditions of lower visibility will result in higher injury accidents to be untrue on majority. The intersection as a place has a large amount of accidents with injuries and property damage as the collision of vehicles take place at an angle. The criminal offences such as inattention, driving under influences and speeding increases the risk of ijury causing accidents and the timings of these offences explains the high accidents during dawn and dusk.\n",
    "\n",
    "Various points that can make suggestions based on all insights can be listed as follows,\n",
    "\n",
    "- Drivers should be more careful where pedestrians and/or cyclists are concentrated. (*is_ped* and *is_bike*)\n",
    "\n",
    "- Drivers should be more careful at intersections. (*addr_type_intersection*)\n",
    "\n",
    "- Age as a factor should be considered by seattle transportation department which will be very useful in explaining criminal offences.\n",
    "\n",
    "- Extra measures can be taken to prevent driving under drugs and alcohol. (*under_infl*)\n",
    "\n",
    "\n",
    "Apart from the features that distinguish the two classes from each other, suggestions for situations where accidents occur frequently can be listed as follows:\n",
    "\n",
    "- At hours close to office hours drivers should be more careful.\n",
    "\n",
    "- Special precautions can be taken by the relevant authorities, especially since there are angles type collisions at intersections.\n",
    "\n",
    "- Authoritites should look at districts with schools, universities and offices where the pedestrians and cyclist are concentrated. \n",
    "\n",
    "- Authorities should also make rules, take precautions and make arrangements for the safety of pedestrains and cyclist. "
   ]
  }
 ],
 "metadata": {
  "kernelspec": {
   "display_name": "Python 3",
   "language": "python",
   "name": "python3"
  },
  "language_info": {
   "codemirror_mode": {
    "name": "ipython",
    "version": 3
   },
   "file_extension": ".py",
   "mimetype": "text/x-python",
   "name": "python",
   "nbconvert_exporter": "python",
   "pygments_lexer": "ipython3",
   "version": "3.8.3"
  }
 },
 "nbformat": 4,
 "nbformat_minor": 4
}
